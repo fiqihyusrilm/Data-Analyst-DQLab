{
 "cells": [
  {
   "cell_type": "markdown",
   "id": "minor-syndrome",
   "metadata": {},
   "source": [
    "## Eksplorasi Data: Memahami Data dengan Statistik - Part 1"
   ]
  },
  {
   "cell_type": "code",
   "execution_count": 1,
   "id": "voluntary-reset",
   "metadata": {},
   "outputs": [
    {
     "name": "stdout",
     "output_type": "stream",
     "text": [
      "Shape dataset: (12330, 18)\n",
      "\n",
      "Lima data teratas:\n",
      "    Administrative  Administrative_Duration  Informational  \\\n",
      "0             0.0                      0.0            0.0   \n",
      "1             0.0                      0.0            0.0   \n",
      "2             0.0                     -1.0            0.0   \n",
      "3             0.0                      0.0            0.0   \n",
      "4             0.0                      0.0            0.0   \n",
      "\n",
      "   Informational_Duration  ProductRelated  ProductRelated_Duration  \\\n",
      "0                     0.0             1.0                 0.000000   \n",
      "1                     0.0             2.0                64.000000   \n",
      "2                    -1.0             1.0                -1.000000   \n",
      "3                     0.0             2.0                 2.666667   \n",
      "4                     0.0            10.0               627.500000   \n",
      "\n",
      "   BounceRates  ExitRates  PageValues  SpecialDay Month  OperatingSystems  \\\n",
      "0         0.20       0.20         0.0         0.0   Feb                 1   \n",
      "1         0.00       0.10         0.0         0.0   Feb                 2   \n",
      "2         0.20       0.20         0.0         0.0   Feb                 4   \n",
      "3         0.05       0.14         0.0         0.0   Feb                 3   \n",
      "4         0.02       0.05         0.0         0.0   Feb                 3   \n",
      "\n",
      "   Browser  Region  TrafficType        VisitorType  Weekend  Revenue  \n",
      "0        1       1            1  Returning_Visitor    False    False  \n",
      "1        2       1            2  Returning_Visitor    False    False  \n",
      "2        1       9            3  Returning_Visitor    False    False  \n",
      "3        2       2            4  Returning_Visitor    False    False  \n",
      "4        3       1            4  Returning_Visitor     True    False  \n",
      "\n",
      "Informasi dataset:\n",
      "<class 'pandas.core.frame.DataFrame'>\n",
      "RangeIndex: 12330 entries, 0 to 12329\n",
      "Data columns (total 18 columns):\n",
      " #   Column                   Non-Null Count  Dtype  \n",
      "---  ------                   --------------  -----  \n",
      " 0   Administrative           12316 non-null  float64\n",
      " 1   Administrative_Duration  12316 non-null  float64\n",
      " 2   Informational            12316 non-null  float64\n",
      " 3   Informational_Duration   12316 non-null  float64\n",
      " 4   ProductRelated           12316 non-null  float64\n",
      " 5   ProductRelated_Duration  12316 non-null  float64\n",
      " 6   BounceRates              12316 non-null  float64\n",
      " 7   ExitRates                12316 non-null  float64\n",
      " 8   PageValues               12330 non-null  float64\n",
      " 9   SpecialDay               12330 non-null  float64\n",
      " 10  Month                    12330 non-null  object \n",
      " 11  OperatingSystems         12330 non-null  int64  \n",
      " 12  Browser                  12330 non-null  int64  \n",
      " 13  Region                   12330 non-null  int64  \n",
      " 14  TrafficType              12330 non-null  int64  \n",
      " 15  VisitorType              12330 non-null  object \n",
      " 16  Weekend                  12330 non-null  bool   \n",
      " 17  Revenue                  12330 non-null  bool   \n",
      "dtypes: bool(2), float64(10), int64(4), object(2)\n",
      "memory usage: 1.5+ MB\n",
      "None\n",
      "\n",
      "Statistik deskriptif:\n",
      "        Administrative  Administrative_Duration  Informational  \\\n",
      "count    12316.000000             12316.000000   12316.000000   \n",
      "mean         2.317798                80.906176       0.503979   \n",
      "std          3.322754               176.860432       1.270701   \n",
      "min          0.000000                -1.000000       0.000000   \n",
      "25%          0.000000                 0.000000       0.000000   \n",
      "50%          1.000000                 8.000000       0.000000   \n",
      "75%          4.000000                93.500000       0.000000   \n",
      "max         27.000000              3398.750000      24.000000   \n",
      "\n",
      "       Informational_Duration  ProductRelated  ProductRelated_Duration  \\\n",
      "count            12316.000000    12316.000000             12316.000000   \n",
      "mean                34.506387       31.763884              1196.037057   \n",
      "std                140.825479       44.490339              1914.372511   \n",
      "min                 -1.000000        0.000000                -1.000000   \n",
      "25%                  0.000000        7.000000               185.000000   \n",
      "50%                  0.000000       18.000000               599.766190   \n",
      "75%                  0.000000       38.000000              1466.479902   \n",
      "max               2549.375000      705.000000             63973.522230   \n",
      "\n",
      "        BounceRates     ExitRates    PageValues    SpecialDay  \\\n",
      "count  12316.000000  12316.000000  12330.000000  12330.000000   \n",
      "mean       0.022152      0.043003      5.889258      0.061427   \n",
      "std        0.048427      0.048527     18.568437      0.198917   \n",
      "min        0.000000      0.000000      0.000000      0.000000   \n",
      "25%        0.000000      0.014286      0.000000      0.000000   \n",
      "50%        0.003119      0.025124      0.000000      0.000000   \n",
      "75%        0.016684      0.050000      0.000000      0.000000   \n",
      "max        0.200000      0.200000    361.763742      1.000000   \n",
      "\n",
      "       OperatingSystems       Browser        Region   TrafficType  \n",
      "count      12330.000000  12330.000000  12330.000000  12330.000000  \n",
      "mean           2.124006      2.357097      3.147364      4.069586  \n",
      "std            0.911325      1.717277      2.401591      4.025169  \n",
      "min            1.000000      1.000000      1.000000      1.000000  \n",
      "25%            2.000000      2.000000      1.000000      2.000000  \n",
      "50%            2.000000      2.000000      3.000000      2.000000  \n",
      "75%            3.000000      2.000000      4.000000      4.000000  \n",
      "max            8.000000     13.000000      9.000000     20.000000  \n"
     ]
    }
   ],
   "source": [
    "import pandas as pd\n",
    "dataset = pd.read_csv('https://dqlab-dataset.s3-ap-southeast-1.amazonaws.com/pythonTutorial/online_raw.csv')\n",
    "print('Shape dataset:', dataset.shape)\n",
    "print('\\nLima data teratas:\\n', dataset.head())\n",
    "print('\\nInformasi dataset:')\n",
    "print(dataset.info())\n",
    "print('\\nStatistik deskriptif:\\n', dataset.describe())"
   ]
  },
  {
   "cell_type": "markdown",
   "id": "wicked-elder",
   "metadata": {},
   "source": [
    "## Eksplorasi Data: Memahami Data dengan Statistik - Part 2"
   ]
  },
  {
   "cell_type": "raw",
   "id": "special-begin",
   "metadata": {},
   "source": [
    "Setelah selesai materi tadi, aku kembali diajak memahami eksplorasi data. Banyak sekali materi baru hari ini!\n",
    "\n",
    "“Kita lanjut yah, Aksara. Data eksplorasi tidaklah cukup dengan mengetahui dimensi data dan statistical properties saja, tetapi kita juga perlu sedikit menggali tentang hubungan atau korelasi dari setiap feature, karena beberapa algorithm seperti linear regression dan logistic regression akan menghasilkan model dengan performansi yang buruk jika kita menggunakan feature/variabel saling dependensi atau berkorelasi kuat (multicollinearity). Jadi, jika kita sudah tahu bahwa data kita berkorelasi kuat, kita bisa menggunakan algorithm lain yang tidak sensitif terhadap hubungan korelasi dari feature/variabel seperti decision tree.”"
   ]
  },
  {
   "cell_type": "code",
   "execution_count": 2,
   "id": "ready-exception",
   "metadata": {},
   "outputs": [
    {
     "name": "stdout",
     "output_type": "stream",
     "text": [
      "Korelasi dataset:\n",
      "                          Administrative  Administrative_Duration  \\\n",
      "Administrative                 1.000000                 0.601466   \n",
      "Administrative_Duration        0.601466                 1.000000   \n",
      "Informational                  0.376782                 0.302647   \n",
      "Informational_Duration         0.255757                 0.237959   \n",
      "ProductRelated                 0.430832                 0.288869   \n",
      "ProductRelated_Duration        0.373647                 0.355238   \n",
      "BounceRates                   -0.223474                -0.144128   \n",
      "ExitRates                     -0.316192                -0.205618   \n",
      "PageValues                     0.098771                 0.067463   \n",
      "SpecialDay                    -0.095054                -0.073472   \n",
      "OperatingSystems              -0.006459                -0.007425   \n",
      "Browser                       -0.025243                -0.015525   \n",
      "Region                        -0.005680                -0.005681   \n",
      "TrafficType                   -0.033748                -0.014487   \n",
      "Weekend                        0.026404                 0.014987   \n",
      "Revenue                        0.138631                 0.093395   \n",
      "\n",
      "                         Informational  Informational_Duration  \\\n",
      "Administrative                0.376782                0.255757   \n",
      "Administrative_Duration       0.302647                0.237959   \n",
      "Informational                 1.000000                0.618965   \n",
      "Informational_Duration        0.618965                1.000000   \n",
      "ProductRelated                0.374098                0.279966   \n",
      "ProductRelated_Duration       0.387446                0.347300   \n",
      "BounceRates                  -0.116071               -0.074077   \n",
      "ExitRates                    -0.163539               -0.105205   \n",
      "PageValues                    0.048539                0.030787   \n",
      "SpecialDay                   -0.048328               -0.030658   \n",
      "OperatingSystems             -0.009435               -0.009596   \n",
      "Browser                      -0.038257               -0.019346   \n",
      "Region                       -0.029442               -0.027244   \n",
      "TrafficType                  -0.034510               -0.024731   \n",
      "Weekend                       0.035557                0.024054   \n",
      "Revenue                       0.095085                0.070250   \n",
      "\n",
      "                         ProductRelated  ProductRelated_Duration  BounceRates  \\\n",
      "Administrative                 0.430832                 0.373647    -0.223474   \n",
      "Administrative_Duration        0.288869                 0.355238    -0.144128   \n",
      "Informational                  0.374098                 0.387446    -0.116071   \n",
      "Informational_Duration         0.279966                 0.347300    -0.074077   \n",
      "ProductRelated                 1.000000                 0.860868    -0.204469   \n",
      "ProductRelated_Duration        0.860868                 1.000000    -0.184409   \n",
      "BounceRates                   -0.204469                -0.184409     1.000000   \n",
      "ExitRates                     -0.292219                -0.251645     0.913436   \n",
      "PageValues                     0.056067                 0.052623    -0.119357   \n",
      "SpecialDay                    -0.024190                -0.036598     0.073088   \n",
      "OperatingSystems               0.004193                 0.002885     0.023965   \n",
      "Browser                       -0.013326                -0.007549    -0.016009   \n",
      "Region                        -0.038318                -0.033263    -0.006731   \n",
      "TrafficType                   -0.043235                -0.036538     0.078894   \n",
      "Weekend                        0.016097                 0.007293    -0.046870   \n",
      "Revenue                        0.158280                 0.152130    -0.150621   \n",
      "\n",
      "                         ExitRates  PageValues  SpecialDay  OperatingSystems  \\\n",
      "Administrative           -0.316192    0.098771   -0.095054         -0.006459   \n",
      "Administrative_Duration  -0.205618    0.067463   -0.073472         -0.007425   \n",
      "Informational            -0.163539    0.048539   -0.048328         -0.009435   \n",
      "Informational_Duration   -0.105205    0.030787   -0.030658         -0.009596   \n",
      "ProductRelated           -0.292219    0.056067   -0.024190          0.004193   \n",
      "ProductRelated_Duration  -0.251645    0.052623   -0.036598          0.002885   \n",
      "BounceRates               0.913436   -0.119357    0.073088          0.023965   \n",
      "ExitRates                 1.000000   -0.174397    0.102899          0.014745   \n",
      "PageValues               -0.174397    1.000000   -0.063541          0.018508   \n",
      "SpecialDay                0.102899   -0.063541    1.000000          0.012652   \n",
      "OperatingSystems          0.014745    0.018508    0.012652          1.000000   \n",
      "Browser                  -0.004407    0.045592    0.003499          0.223013   \n",
      "Region                   -0.008836    0.011315   -0.016098          0.076775   \n",
      "TrafficType               0.078998    0.012532    0.052301          0.189154   \n",
      "Weekend                  -0.062942    0.012002   -0.016767          0.000284   \n",
      "Revenue                  -0.206886    0.492569   -0.082305         -0.014668   \n",
      "\n",
      "                          Browser    Region  TrafficType   Weekend   Revenue  \n",
      "Administrative          -0.025243 -0.005680    -0.033748  0.026404  0.138631  \n",
      "Administrative_Duration -0.015525 -0.005681    -0.014487  0.014987  0.093395  \n",
      "Informational           -0.038257 -0.029442    -0.034510  0.035557  0.095085  \n",
      "Informational_Duration  -0.019346 -0.027244    -0.024731  0.024054  0.070250  \n",
      "ProductRelated          -0.013326 -0.038318    -0.043235  0.016097  0.158280  \n",
      "ProductRelated_Duration -0.007549 -0.033263    -0.036538  0.007293  0.152130  \n",
      "BounceRates             -0.016009 -0.006731     0.078894 -0.046870 -0.150621  \n",
      "ExitRates               -0.004407 -0.008836     0.078998 -0.062942 -0.206886  \n",
      "PageValues               0.045592  0.011315     0.012532  0.012002  0.492569  \n",
      "SpecialDay               0.003499 -0.016098     0.052301 -0.016767 -0.082305  \n",
      "OperatingSystems         0.223013  0.076775     0.189154  0.000284 -0.014668  \n",
      "Browser                  1.000000  0.097393     0.111938 -0.040261  0.023984  \n",
      "Region                   0.097393  1.000000     0.047520 -0.000691 -0.011595  \n",
      "TrafficType              0.111938  0.047520     1.000000 -0.002221 -0.005113  \n",
      "Weekend                 -0.040261 -0.000691    -0.002221  1.000000  0.029295  \n",
      "Revenue                  0.023984 -0.011595    -0.005113  0.029295  1.000000  \n",
      "Distribusi Label (Revenue):\n",
      " False    10422\n",
      "True      1908\n",
      "Name: Revenue, dtype: int64\n",
      "\n",
      "Korelasi BounceRates-ExitRates: 0.9134364214595573\n",
      "\n",
      "Korelasi Revenue-PageValues: 0.49256929525120574\n",
      "\n",
      "Korelasi TrafficType-Weekend: -0.0022212292430310644\n"
     ]
    }
   ],
   "source": [
    "dataset_corr = dataset.corr()\n",
    "print('Korelasi dataset:\\n', dataset.corr())\n",
    "print('Distribusi Label (Revenue):\\n', dataset['Revenue'].value_counts())\n",
    "# Tugas praktek\n",
    "print('\\nKorelasi BounceRates-ExitRates:', dataset_corr.loc['BounceRates', 'ExitRates'])\n",
    "print('\\nKorelasi Revenue-PageValues:', dataset_corr.loc['Revenue', 'PageValues'])\n",
    "print('\\nKorelasi TrafficType-Weekend:', dataset_corr.loc['TrafficType', 'Weekend'])"
   ]
  },
  {
   "cell_type": "markdown",
   "id": "removed-bidding",
   "metadata": {},
   "source": [
    "## Eksplorasi Data: Memahami Data dengan Visual"
   ]
  },
  {
   "cell_type": "raw",
   "id": "distributed-partner",
   "metadata": {},
   "source": [
    "Misalnya kita ingin melihat distribusi label dalam bentuk visual, dan jumlah pembelian saat weekend. Kita dapat memanfaatkan matplotlib library untuk membuat chart yang menampilkan perbandingan jumlah yang membeli (1) dan tidak membeli (0), serta perbandingan jumlah pembelian saat weekend,” tambah Senja sembari menampilkan contoh kodenya:"
   ]
  },
  {
   "cell_type": "code",
   "execution_count": 3,
   "id": "technological-motor",
   "metadata": {},
   "outputs": [
    {
     "name": "stderr",
     "output_type": "stream",
     "text": [
      "C:\\Users\\Fiqih\\anaconda3\\lib\\site-packages\\seaborn\\_decorators.py:36: FutureWarning: Pass the following variable as a keyword arg: x. From version 0.12, the only valid positional argument will be `data`, and passing other arguments without an explicit keyword will result in an error or misinterpretation.\n",
      "  warnings.warn(\n",
      "C:\\Users\\Fiqih\\anaconda3\\lib\\site-packages\\seaborn\\_decorators.py:36: FutureWarning: Pass the following variable as a keyword arg: x. From version 0.12, the only valid positional argument will be `data`, and passing other arguments without an explicit keyword will result in an error or misinterpretation.\n",
      "  warnings.warn(\n"
     ]
    },
    {
     "data": {
      "image/png": "[encoded data removed]",
      "text/plain": [
       "<Figure size 864x360 with 2 Axes>"
      ]
     },
     "metadata": {
      "needs_background": "light"
     },
     "output_type": "display_data"
    }
   ],
   "source": [
    "import matplotlib.pyplot as plt\n",
    "import seaborn as sns\n",
    "# checking the Distribution of customers on Revenue\n",
    "plt.rcParams['figure.figsize'] = (12,5)\n",
    "plt.subplot(1, 2, 1)\n",
    "sns.countplot(dataset['Revenue'], palette = 'pastel')\n",
    "plt.title('Buy or Not', fontsize = 20)\n",
    "plt.xlabel('Revenue or not', fontsize = 14)\n",
    "plt.ylabel('count', fontsize = 14)\n",
    "# checking the Distribution of customers on Weekend\n",
    "plt.subplot(1, 2, 2)\n",
    "sns.countplot(dataset['Weekend'], palette ='inferno')\n",
    "plt.title('Purchase on Weekends', fontsize = 20)\n",
    "plt.xlabel('Weekend or not', fontsize = 14)\n",
    "plt.ylabel('count', fontsize = 14)\n",
    "plt.show()"
   ]
  },
  {
   "cell_type": "markdown",
   "id": "antique-instruction",
   "metadata": {},
   "source": [
    "## Tugas Praktek"
   ]
  },
  {
   "cell_type": "code",
   "execution_count": 4,
   "id": "infrared-gregory",
   "metadata": {},
   "outputs": [
    {
     "data": {
      "image/png": "[encoded data removed]",
      "text/plain": [
       "<Figure size 864x360 with 1 Axes>"
      ]
     },
     "metadata": {
      "needs_background": "light"
     },
     "output_type": "display_data"
    }
   ],
   "source": [
    "import matplotlib.pyplot as plt\n",
    "# visualizing the distribution of customers around the Region\n",
    "plt.hist(dataset['Region'], color ='lightblue')\n",
    "plt.title('Distribution of Customers', fontsize = 20)\n",
    "plt.xlabel('Region Codes', fontsize = 14)\n",
    "plt.ylabel('Count Users', fontsize = 14)\n",
    "plt.show()"
   ]
  },
  {
   "cell_type": "markdown",
   "id": "forty-retirement",
   "metadata": {},
   "source": [
    "## Data Pre-processing: Handling Missing Value - Part 1"
   ]
  },
  {
   "cell_type": "code",
   "execution_count": 5,
   "id": "sophisticated-handle",
   "metadata": {},
   "outputs": [
    {
     "name": "stdout",
     "output_type": "stream",
     "text": [
      "Checking missing value for each feature:\n",
      "Administrative             14\n",
      "Administrative_Duration    14\n",
      "Informational              14\n",
      "Informational_Duration     14\n",
      "ProductRelated             14\n",
      "ProductRelated_Duration    14\n",
      "BounceRates                14\n",
      "ExitRates                  14\n",
      "PageValues                  0\n",
      "SpecialDay                  0\n",
      "Month                       0\n",
      "OperatingSystems            0\n",
      "Browser                     0\n",
      "Region                      0\n",
      "TrafficType                 0\n",
      "VisitorType                 0\n",
      "Weekend                     0\n",
      "Revenue                     0\n",
      "dtype: int64\n",
      "\n",
      "Counting total missing value:\n",
      "112\n"
     ]
    }
   ],
   "source": [
    "#checking missing value for each feature  \n",
    "print('Checking missing value for each feature:')\n",
    "print(dataset.isnull().sum())\n",
    "#Counting total missing value\n",
    "print('\\nCounting total missing value:')\n",
    "print(dataset.isnull().sum().sum())"
   ]
  },
  {
   "cell_type": "markdown",
   "id": "liked-roberts",
   "metadata": {},
   "source": [
    "## Data Pre-processing: Handling Missing Value - Part 2"
   ]
  },
  {
   "cell_type": "code",
   "execution_count": 6,
   "id": "stainless-count",
   "metadata": {},
   "outputs": [
    {
     "name": "stdout",
     "output_type": "stream",
     "text": [
      "Ukuran dataset_clean: (12316, 18)\n"
     ]
    }
   ],
   "source": [
    "#Drop rows with missing value   \n",
    "dataset_clean =  dataset.dropna()\n",
    "print('Ukuran dataset_clean:', dataset_clean.shape) "
   ]
  },
  {
   "cell_type": "markdown",
   "id": "intensive-madison",
   "metadata": {},
   "source": [
    "## Data Pre-processing: Handling Missing Value - Part 3"
   ]
  },
  {
   "cell_type": "code",
   "execution_count": 7,
   "id": "cloudy-delhi",
   "metadata": {},
   "outputs": [
    {
     "name": "stdout",
     "output_type": "stream",
     "text": [
      "Before imputation:\n",
      "Administrative             14\n",
      "Administrative_Duration    14\n",
      "Informational              14\n",
      "Informational_Duration     14\n",
      "ProductRelated             14\n",
      "ProductRelated_Duration    14\n",
      "BounceRates                14\n",
      "ExitRates                  14\n",
      "PageValues                  0\n",
      "SpecialDay                  0\n",
      "Month                       0\n",
      "OperatingSystems            0\n",
      "Browser                     0\n",
      "Region                      0\n",
      "TrafficType                 0\n",
      "VisitorType                 0\n",
      "Weekend                     0\n",
      "Revenue                     0\n",
      "dtype: int64\n",
      "112\n",
      "\n",
      "After imputation:\n",
      "Administrative             0\n",
      "Administrative_Duration    0\n",
      "Informational              0\n",
      "Informational_Duration     0\n",
      "ProductRelated             0\n",
      "ProductRelated_Duration    0\n",
      "BounceRates                0\n",
      "ExitRates                  0\n",
      "PageValues                 0\n",
      "SpecialDay                 0\n",
      "Month                      0\n",
      "OperatingSystems           0\n",
      "Browser                    0\n",
      "Region                     0\n",
      "TrafficType                0\n",
      "VisitorType                0\n",
      "Weekend                    0\n",
      "Revenue                    0\n",
      "dtype: int64\n",
      "0\n"
     ]
    }
   ],
   "source": [
    "print(\"Before imputation:\")\n",
    "# Checking missing value for each feature  \n",
    "print(dataset.isnull().sum())\n",
    "# Counting total missing value  \n",
    "print(dataset.isnull().sum().sum())\n",
    "\n",
    "print(\"\\nAfter imputation:\")\n",
    "# Fill missing value with mean of feature value  \n",
    "dataset.fillna(dataset.mean(), inplace = True)\n",
    "# Checking missing value for each feature  \n",
    "print(dataset.isnull().sum())\n",
    "# Counting total missing value  \n",
    "print(dataset.isnull().sum().sum())"
   ]
  },
  {
   "cell_type": "markdown",
   "id": "rental-spectrum",
   "metadata": {},
   "source": [
    "## Tugas Praktek"
   ]
  },
  {
   "cell_type": "code",
   "execution_count": 8,
   "id": "governing-convertible",
   "metadata": {},
   "outputs": [
    {
     "name": "stdout",
     "output_type": "stream",
     "text": [
      "Before imputation:\n",
      "Administrative             14\n",
      "Administrative_Duration    14\n",
      "Informational              14\n",
      "Informational_Duration     14\n",
      "ProductRelated             14\n",
      "ProductRelated_Duration    14\n",
      "BounceRates                14\n",
      "ExitRates                  14\n",
      "PageValues                  0\n",
      "SpecialDay                  0\n",
      "Month                       0\n",
      "OperatingSystems            0\n",
      "Browser                     0\n",
      "Region                      0\n",
      "TrafficType                 0\n",
      "VisitorType                 0\n",
      "Weekend                     0\n",
      "Revenue                     0\n",
      "dtype: int64\n",
      "112\n",
      "\n",
      "After imputation:\n",
      "Administrative             0\n",
      "Administrative_Duration    0\n",
      "Informational              0\n",
      "Informational_Duration     0\n",
      "ProductRelated             0\n",
      "ProductRelated_Duration    0\n",
      "BounceRates                0\n",
      "ExitRates                  0\n",
      "PageValues                 0\n",
      "SpecialDay                 0\n",
      "Month                      0\n",
      "OperatingSystems           0\n",
      "Browser                    0\n",
      "Region                     0\n",
      "TrafficType                0\n",
      "VisitorType                0\n",
      "Weekend                    0\n",
      "Revenue                    0\n",
      "dtype: int64\n",
      "0\n"
     ]
    }
   ],
   "source": [
    "import pandas as pd\n",
    "dataset1 = pd.read_csv('https://storage.googleapis.com/dqlab-dataset/pythonTutorial/online_raw.csv')\n",
    "\n",
    "print(\"Before imputation:\")\n",
    "# Checking missing value for each feature  \n",
    "print(dataset1.isnull().sum())\n",
    "# Counting total missing value  \n",
    "print(dataset1.isnull().sum().sum())\n",
    "\n",
    "print(\"\\nAfter imputation:\")\n",
    "# Fill missing value with median of feature value\n",
    "dataset1.fillna(dataset1.median(), inplace = True)\n",
    "# Checking missing value for each feature  \n",
    "print(dataset1.isnull().sum())\n",
    "# Counting total missing value  \n",
    "print(dataset1.isnull().sum().sum())"
   ]
  },
  {
   "cell_type": "markdown",
   "id": "binary-hypothetical",
   "metadata": {},
   "source": [
    "## Data Preprocessing: Scaling"
   ]
  },
  {
   "cell_type": "raw",
   "id": "comprehensive-finish",
   "metadata": {},
   "source": [
    "“Beberapa machine learning seperti K-NN dan gradient descent mengharuskan semua variabel memiliki rentang nilai yang sama, karena jika tidak sama, feature dengan rentang nilai terbesar misalnya ProductRelated_Duration otomatis akan menjadi feature yang paling mendominasi dalam proses training/komputasi, sehingga model yang dihasilkan pun akan sangat bias. Oleh karena itu, sebelum memulai training model, kita terlebih dahulu perlu melakukan data rescaling ke dalam rentang 0 dan 1, sehingga semua feature berada dalam rentang nilai tersebut, yaitu nilai max = 1 dan nilai min = 0. Data rescaling ini dengan mudah dapat dilakukan di Python menggunakan .MinMaxScaler( ) dari Scikit-Learn library.”"
   ]
  },
  {
   "cell_type": "markdown",
   "id": "standing-oxide",
   "metadata": {},
   "source": [
    "## Tugas Praktek"
   ]
  },
  {
   "cell_type": "code",
   "execution_count": 9,
   "id": "brief-secretary",
   "metadata": {},
   "outputs": [
    {
     "name": "stdout",
     "output_type": "stream",
     "text": [
      "                         min  max\n",
      "Administrative           0.0  1.0\n",
      "Administrative_Duration  0.0  1.0\n",
      "Informational            0.0  1.0\n",
      "Informational_Duration   0.0  1.0\n",
      "ProductRelated           0.0  1.0\n",
      "ProductRelated_Duration  0.0  1.0\n",
      "BounceRates              0.0  1.0\n",
      "ExitRates                0.0  1.0\n",
      "PageValues               0.0  1.0\n"
     ]
    }
   ],
   "source": [
    "from sklearn.preprocessing import MinMaxScaler\n",
    "#Define MinMaxScaler as scaler  \n",
    "scaler = MinMaxScaler()  \n",
    "#list all the feature that need to be scaled  \n",
    "scaling_column = ['Administrative','Administrative_Duration','Informational','Informational_Duration','ProductRelated','ProductRelated_Duration','BounceRates','ExitRates','PageValues']\n",
    "#Apply fit_transfrom to scale selected feature  \n",
    "dataset[scaling_column] = scaler.fit_transform(dataset[scaling_column])\n",
    "#Cheking min and max value of the scaling_column\n",
    "print(dataset[scaling_column].describe().T[['min','max']])"
   ]
  },
  {
   "cell_type": "markdown",
   "id": "designing-personal",
   "metadata": {},
   "source": [
    "## Data Pre-processing: Konversi string ke numerik"
   ]
  },
  {
   "cell_type": "code",
   "execution_count": 10,
   "id": "conceptual-somewhere",
   "metadata": {},
   "outputs": [
    {
     "name": "stdout",
     "output_type": "stream",
     "text": [
      "['Aug' 'Dec' 'Feb' 'Jul' 'June' 'Mar' 'May' 'Nov' 'Oct' 'Sep']\n",
      "[0 1 2 3 4 5 6 7 8 9]\n",
      "\n",
      "['New_Visitor' 'Other' 'Returning_Visitor']\n",
      "[0 1 2]\n"
     ]
    }
   ],
   "source": [
    "import numpy as np\n",
    "from sklearn.preprocessing import LabelEncoder\n",
    "# Convert feature/column 'Month'\n",
    "LE = LabelEncoder()\n",
    "dataset['Month'] = LE.fit_transform(dataset['Month'])\n",
    "print(LE.classes_)\n",
    "print(np.sort(dataset['Month'].unique()))\n",
    "print('')\n",
    "\n",
    "# Convert feature/column 'VisitorType'\n",
    "LE = LabelEncoder()\n",
    "dataset['VisitorType'] = LE.fit_transform(dataset['VisitorType'])\n",
    "print(LE.classes_)\n",
    "print(np.sort(dataset['VisitorType'].unique()))"
   ]
  },
  {
   "cell_type": "raw",
   "id": "urban-feature",
   "metadata": {},
   "source": [
    "\"Bisa dilihat, kan, Aksara bahwa LabelEncoder akan mengurutkan label secara otomatis secara alfabetik, posisi/indeks dari setiap label ini digunakan sebagai nilai numeris konversi pandas objek ke numeris (dalam hal ini tipe data int). Dengan demikian kita telah membuat dataset kita menjadi dataset bernilai numeris seluruhnya yang siap digunakan untuk pemodelan dengan algoritma machine learning tertentu,\" tutup Senja."
   ]
  },
  {
   "cell_type": "markdown",
   "id": "excellent-slovakia",
   "metadata": {},
   "source": [
    "# Pemodelan dengan Scikit-Learn"
   ]
  },
  {
   "cell_type": "markdown",
   "id": "mathematical-filling",
   "metadata": {},
   "source": [
    "## Features & Label"
   ]
  },
  {
   "cell_type": "code",
   "execution_count": 11,
   "id": "agreed-curtis",
   "metadata": {},
   "outputs": [
    {
     "name": "stdout",
     "output_type": "stream",
     "text": [
      "Shape of X: (12330, 17)\n",
      "Shape of y: (12330,)\n"
     ]
    }
   ],
   "source": [
    "# removing the target column Revenue from dataset and assigning to X\n",
    "X = dataset.drop(['Revenue'], axis = 1)\n",
    "# assigning the target column Revenue to y\n",
    "y = dataset['Revenue']\n",
    "# checking the shapes\n",
    "print(\"Shape of X:\", X.shape)\n",
    "print(\"Shape of y:\", y.shape)"
   ]
  },
  {
   "cell_type": "markdown",
   "id": "psychological-capitol",
   "metadata": {},
   "source": [
    "## Training dan Test Dataset"
   ]
  },
  {
   "cell_type": "raw",
   "id": "generic-establishment",
   "metadata": {},
   "source": [
    "“Perbandingan lain yang biasanya digunakan adalah 75:25. Hal penting yang perlu diketahui adalah scikit-learn tidak dapat memproses dataframe dan hanya mengakomodasi format data tipe Array. Tetapi kalian tidak perlu khawatir, fungsi train_test_split( ) dari Scikit-Learn, otomatis mengubah dataset dari dataframe ke dalam format array. Apakah kamu paham. Aksara? Atau ada pertanyaan?”"
   ]
  },
  {
   "cell_type": "code",
   "execution_count": 12,
   "id": "alleged-series",
   "metadata": {},
   "outputs": [
    {
     "name": "stdout",
     "output_type": "stream",
     "text": [
      "Shape of X_train: (9864, 17)\n",
      "Shape of y_train: (9864,)\n",
      "Shape of X_test: (2466, 17)\n",
      "Shape of y_test: (2466,)\n"
     ]
    }
   ],
   "source": [
    "from sklearn.model_selection import train_test_split\n",
    "# splitting the X, and y\n",
    "X_train, X_test, y_train, y_test = train_test_split(X, y, test_size = 0.2, random_state=0)\n",
    "# checking the shapes\n",
    "print(\"Shape of X_train:\", X_train.shape)\n",
    "print(\"Shape of y_train:\", y_train.shape)\n",
    "print(\"Shape of X_test:\", X_test.shape)\n",
    "print(\"Shape of y_test:\", y_test.shape)"
   ]
  },
  {
   "cell_type": "markdown",
   "id": "express-reward",
   "metadata": {},
   "source": [
    "## Training Model: Fit"
   ]
  },
  {
   "cell_type": "code",
   "execution_count": 13,
   "id": "indian-wells",
   "metadata": {},
   "outputs": [],
   "source": [
    "from sklearn.tree import DecisionTreeClassifier\n",
    "# Call the classifier\n",
    "model = DecisionTreeClassifier()\n",
    "# Fit the classifier to the training data\n",
    "model = model.fit(X_train, y_train)"
   ]
  },
  {
   "cell_type": "markdown",
   "id": "aggressive-biodiversity",
   "metadata": {},
   "source": [
    "## Training Model: Predict"
   ]
  },
  {
   "cell_type": "code",
   "execution_count": 14,
   "id": "informational-highland",
   "metadata": {},
   "outputs": [
    {
     "name": "stdout",
     "output_type": "stream",
     "text": [
      "(2466,)\n"
     ]
    }
   ],
   "source": [
    "# Apply the classifier/model to the test data\n",
    "y_pred = model.predict(X_test)\n",
    "print(y_pred.shape)"
   ]
  },
  {
   "cell_type": "markdown",
   "id": "heated-mailman",
   "metadata": {},
   "source": [
    "# Evaluasi Model Performance - Part 1"
   ]
  },
  {
   "cell_type": "raw",
   "id": "married-thousand",
   "metadata": {},
   "source": [
    "paling sederhana untuk mengecek performansi model adalah accuracy."
   ]
  },
  {
   "cell_type": "raw",
   "id": "imposed-inflation",
   "metadata": {},
   "source": [
    "Kita bisa munculkan dengan fungsi .score( ). Tetapi, di banyak real problem, accuracy saja tidaklah cukup. Metode lain yang digunakan adalah dengan Confusion Matrix. Confusion Matrix merepresentasikan perbandingan prediksi dan real LABEL dari test dataset yang dihasilkan oleh algoritma ML,” tukas Senja sambil membuka  template dari confusion Matrix untukku:"
   ]
  },
  {
   "cell_type": "raw",
   "id": "familiar-logging",
   "metadata": {},
   "source": [
    "True Positive (TP): Jika user diprediksi (Positif) membeli ([Revenue] = 1]), dan memang benar(True) membeli.\n",
    "\n",
    "True Negative (TN): Jika user diprediksi tidak (Negatif) membeli dan aktualnya user tersebut memang (True) membeli.\n",
    "\n",
    "False Positive (FP): Jika user diprediksi Positif membeli, tetapi ternyata tidak membeli (False).\n",
    "\n",
    "False Negatif (FN): Jika user diprediksi tidak membeli (Negatif), tetapi ternyata sebenarnya membeli."
   ]
  },
  {
   "cell_type": "markdown",
   "id": "pharmaceutical-shore",
   "metadata": {},
   "source": [
    "# Evaluasi Model Performance - Part 2"
   ]
  },
  {
   "cell_type": "code",
   "execution_count": 15,
   "id": "present-palace",
   "metadata": {},
   "outputs": [
    {
     "name": "stdout",
     "output_type": "stream",
     "text": [
      "Training Accuracy : 1.0\n",
      "Testing Accuracy : 0.8592862935928629\n",
      "\n",
      "Confusion matrix:\n",
      "[[1880  164]\n",
      " [ 183  239]]\n",
      "\n",
      "Classification report:\n",
      "              precision    recall  f1-score   support\n",
      "\n",
      "       False       0.91      0.92      0.92      2044\n",
      "        True       0.59      0.57      0.58       422\n",
      "\n",
      "    accuracy                           0.86      2466\n",
      "   macro avg       0.75      0.74      0.75      2466\n",
      "weighted avg       0.86      0.86      0.86      2466\n",
      "\n"
     ]
    }
   ],
   "source": [
    "from sklearn.metrics import confusion_matrix, classification_report\n",
    "\n",
    "# evaluating the model\n",
    "print('Training Accuracy :', model.score(X_train, y_train))\n",
    "print('Testing Accuracy :', model.score(X_test, y_test))\n",
    "\n",
    "# confusion matrix\n",
    "print('\\nConfusion matrix:')\n",
    "cm = confusion_matrix(y_test, y_pred)\n",
    "print(cm)\n",
    "\n",
    "# classification report\n",
    "print('\\nClassification report:')\n",
    "cr = classification_report(y_test, y_pred)\n",
    "print(cr)"
   ]
  },
  {
   "cell_type": "raw",
   "id": "revised-absence",
   "metadata": {},
   "source": [
    "Berdasarkan confusion matrix, dapat mengukur metrik - metrik berikut :\n",
    "\n",
    "Accuracy = (TP + TN ) / (TP+FP+FN+TN)\n",
    "Precision = (TP) / (TP+FP)\n",
    "Recall = (TP) / (TP + FN)\n",
    "F1 Score = 2 * (Recall*Precission) / (Recall + Precission)"
   ]
  },
  {
   "cell_type": "raw",
   "id": "swedish-drawing",
   "metadata": {},
   "source": [
    "Tidak perlu menghitung nilai ini secara manual. Cukup gunakan  fungsi classification_report() untuk memunculkan hasil perhitungan metrik - metrik tersebut."
   ]
  },
  {
   "cell_type": "raw",
   "id": "metallic-guess",
   "metadata": {},
   "source": [
    "Jika dataset memiliki jumlah data False Negatif dan False Positif yang seimbang (Symmetric), maka bisa gunakan Accuracy, tetapi jika tidak seimbang, maka sebaiknya menggunakan F1-Score.\n",
    "\n",
    "Dalam suatu problem, jika lebih memilih False Positif lebih baik terjadi daripada False Negatif, misalnya: Dalam kasus Fraud/Scam, kecenderungan model mendeteksi transaksi sebagai fraud walaupun kenyataannya bukan, dianggap lebih baik, daripada transaksi tersebut tidak terdeteksi sebagai fraud tetapi ternyata fraud. Untuk problem ini sebaiknya menggunakan Recall.\n",
    "\n",
    "Sebaliknya, jika lebih menginginkan terjadinya True Negatif dan sangat tidak menginginkan terjadinya False Positif, sebaiknya menggunakan Precision.\n",
    "\n",
    "Contohnya adalah pada kasus klasifikasi email SPAM atau tidak. Banyak orang lebih memilih jika email yang sebenarnya SPAM namun diprediksi tidak SPAM (sehingga tetap ada pada kotak masuk email kita), daripada email yang sebenarnya bukan SPAM tapi diprediksi SPAM (sehingga tidak ada pada kotak masuk email)."
   ]
  },
  {
   "cell_type": "raw",
   "id": "passing-departure",
   "metadata": {},
   "source": [
    "Nilai recall dan F1-score yang kecil untuk class 1 (membeli) dan cukup tinggi untuk class 0 (tidak membeli) menunjukkan bahwa model cenderung salah mengklasifikasikan customer sebagai tidak membeli."
   ]
  },
  {
   "cell_type": "raw",
   "id": "fallen-scott",
   "metadata": {},
   "source": [
    "Classification - Logistic Regression\n",
    "Logistic Regression merupakan salah satu algoritma klasifikasi dasar yang cukup popular. Secara sederhana, Logistic regression hampir serupa dengan linear regression tetapi linear regression digunakan untuk Label atau Target Variable yang berupa numerik atau continuous value, sedangkan Logistic regression digunakan untuk Label atau Target yang berupa categorical/discrete value.\n",
    "\n",
    "Contoh continuous value adalah harga rumah, harga saham, suhu, dsb; dan contoh dari categorical value adalah prediksi SPAM or NOT SPAM (1 dan 0) atau prediksi customer SUBSCRIBE atau UNSUBSCRIBED (1 dan 0).\n",
    "\n",
    "Umumnya Logistic Regression dipakai untuk binary classification (1/0; Yes/No; True/False) problem, tetapi beberapa data scientist juga menggunakannya untuk multiclass classification problem. Logistic regression adalah salah satu linear classifier, oleh karena itu, Logistik regression juga menggunakan rumus atau fungsi yang sama seperti linear regression yaitu:\n",
    "\n",
    "\n",
    "\n",
    "yang disebut Logit, dimana Variabel 𝑏₀, 𝑏₁, …, 𝑏ᵣ adalah koefisien regresi, dan 𝑥₁, …, 𝑥ᵣ adalah explanatory variable/variabel input atau feature.\n",
    "\n",
    "Output dari Logistic Regression adalah 1 atau 0; sehingga real value dari fungsi logit ini perlu ditransfer ke nilai di antara 1 dan 0 dengan menggunakan fungsi sigmoid."
   ]
  },
  {
   "cell_type": "raw",
   "id": "peripheral-breakdown",
   "metadata": {},
   "source": [
    "Jadi, jika output dari fungsi sigmoid bernilai lebih dari 0.5, maka data point diklasifikasi ke dalam label/class: 1 atau YES; dan kurang dari 0.5, akan diklasifikasikan ke dalam label/class: 0 atau NO.\n",
    "\n",
    " \n",
    "\n",
    "Logistic Regression hanya dapat mengolah data dengan tipe numerik. Pada saat preparasi data, pastikan untuk mengecek tipe variabel yang ada dalam dataset dan pastikan semuanya adalah numerik, lakukan data transformasi jika diperlukan."
   ]
  },
  {
   "cell_type": "markdown",
   "id": "boolean-exposure",
   "metadata": {},
   "source": [
    "# Pemodelan Permasalahan Klasifikasi dengan Logistic Regression"
   ]
  },
  {
   "cell_type": "code",
   "execution_count": 16,
   "id": "polish-feeling",
   "metadata": {},
   "outputs": [
    {
     "name": "stdout",
     "output_type": "stream",
     "text": [
      "Training Accuracy : 1.0\n",
      "Testing Accuracy : 0.8592862935928629\n",
      "\n",
      "Confusion matrix\n",
      "[[2009   35]\n",
      " [ 315  107]]\n",
      "\n",
      "Classification report\n",
      "              precision    recall  f1-score   support\n",
      "\n",
      "       False       0.86      0.98      0.92      2044\n",
      "        True       0.75      0.25      0.38       422\n",
      "\n",
      "    accuracy                           0.86      2466\n",
      "   macro avg       0.81      0.62      0.65      2466\n",
      "weighted avg       0.85      0.86      0.83      2466\n",
      "\n"
     ]
    },
    {
     "name": "stderr",
     "output_type": "stream",
     "text": [
      "C:\\Users\\Fiqih\\anaconda3\\lib\\site-packages\\sklearn\\linear_model\\_logistic.py:763: ConvergenceWarning: lbfgs failed to converge (status=1):\n",
      "STOP: TOTAL NO. of ITERATIONS REACHED LIMIT.\n",
      "\n",
      "Increase the number of iterations (max_iter) or scale the data as shown in:\n",
      "    https://scikit-learn.org/stable/modules/preprocessing.html\n",
      "Please also refer to the documentation for alternative solver options:\n",
      "    https://scikit-learn.org/stable/modules/linear_model.html#logistic-regression\n",
      "  n_iter_i = _check_optimize_result(\n"
     ]
    }
   ],
   "source": [
    "from sklearn.linear_model import LogisticRegression\n",
    "from sklearn.metrics import confusion_matrix, classification_report\n",
    "\n",
    "# Call the classifier\n",
    "logreg = LogisticRegression()\n",
    "# Fit the classifier to the training data  \n",
    "logreg = logreg.fit(X_train, y_train)\n",
    "#Training Model: Predict \n",
    "y_pred = logreg.predict(X_test)\n",
    "\n",
    "#Evaluate Model Performance\n",
    "print('Training Accuracy :', model.score(X_train, y_train))  \n",
    "print('Testing Accuracy :', model.score(X_test, y_test))  \n",
    "\n",
    "# confusion matrix\n",
    "print('\\nConfusion matrix')  \n",
    "cm = confusion_matrix(y_test, y_pred)\n",
    "print(cm)\n",
    "\n",
    "# classification report  \n",
    "print('\\nClassification report')  \n",
    "cr = classification_report(y_test, y_pred)\n",
    "print(cr)"
   ]
  },
  {
   "cell_type": "markdown",
   "id": "stock-margin",
   "metadata": {},
   "source": [
    "# Classification - Decision Tree"
   ]
  },
  {
   "cell_type": "raw",
   "id": "signed-latvia",
   "metadata": {},
   "source": [
    "Decision Tree merupakan salah satu metode klasifikasi yang populer dan banyak diimplementasikan serta mudah diinterpretasi. Decision tree adalah model prediksi dengan struktur pohon atau struktur berhierarki. Decision Tree dapat digunakan untuk classification problem dan regression problem. Secara sederhana, struktur dari decision tree adalah sebagai berikut:"
   ]
  },
  {
   "cell_type": "raw",
   "id": "internal-group",
   "metadata": {},
   "source": [
    "Decision tree terdiri dari :\n",
    "\n",
    "Decision Node yang merupakan feature/input variabel;\n",
    "Branch yang ditunjukkan oleh garis hitam berpanah, yang adalah rule/aturan keputusan, dan\n",
    "Leaf yang merupakan output/hasil.\n",
    "Decision Node paling atas dalam decision tree dikenal sebagai akar keputusan, atau feature utama yang menjadi asal mula percabangan. Jadi, decision tree membagi data ke dalam kelompok atau kelas berdasarkan feature/variable input, yang dimulai dari node paling atas (akar), dan terus bercabang ke bawah sampai dicapai cabang akhir atau leaf.\n",
    "\n",
    " \n",
    "\n",
    "Misalnya ingin memprediksi apakah seseorang yang mengajukan aplikasi kredit/pinjaman, layak untuk mendapat pinjaman tersebut atau tidak. Dengan menggunakan decision tree, dapat membreak-down kriteria-kriteria pengajuan pinjaman ke dalam hierarki seperti gambar berikut :\n",
    "\n"
   ]
  },
  {
   "cell_type": "raw",
   "id": "raising-buffalo",
   "metadata": {},
   "source": [
    "Seumpama, orang yang mengajukan berumur lebih dari 40 tahun, dan memiliki rumah, maka aplikasi kreditnya dapat diluluskan, sedangkan jika tidak, maka perlu dicek penghasilan orang tersebut. Jika kurang dari 5000, maka permohonan kreditnya akan ditolak. Dan jika usia kurang dari 40 tahun, maka selanjutnya dicek jenjang pendidikannya, apakah universitas atau secondary. Nah, percabangan ini masih bisa berlanjut hingga dicapai percabangan akhir/leaf node.\n",
    "\n",
    "Seperti yang sudah dilakukan dalam prosedur pemodelan machine learning, selanjutnya dapat dengan mudah melakukan pemodelan decision tree dengan menggunakan scikit-learn module, yaitu DecisionTreeClassifier."
   ]
  },
  {
   "cell_type": "markdown",
   "id": "accepted-myrtle",
   "metadata": {},
   "source": [
    "# Supervised Learning - Algorithm"
   ]
  },
  {
   "cell_type": "markdown",
   "id": "solid-british",
   "metadata": {},
   "source": [
    "## Tugas Praktek"
   ]
  },
  {
   "cell_type": "code",
   "execution_count": 17,
   "id": "seven-amino",
   "metadata": {},
   "outputs": [
    {
     "name": "stdout",
     "output_type": "stream",
     "text": [
      "Training Accuracy : 1.0\n",
      "Testing Accuracy : 0.8594214652608814\n"
     ]
    }
   ],
   "source": [
    "from sklearn.model_selection import train_test_split\n",
    "from sklearn.tree import DecisionTreeClassifier\n",
    "\n",
    "# splitting the data\n",
    "X_train, X_test, y_train, y_test = train_test_split(X, y, test_size = 0.3, random_state = 0)\n",
    "\n",
    "# Call the classifier\n",
    "decision_tree = DecisionTreeClassifier()\n",
    "# Fit the classifier to the training data\n",
    "decision_tree = decision_tree.fit(X_train, y_train)\n",
    "\n",
    "# evaluating the decision_tree performance\n",
    "print('Training Accuracy :', decision_tree.score(X_train, y_train))\n",
    "print('Testing Accuracy :', decision_tree.score(X_test, y_test))"
   ]
  },
  {
   "cell_type": "markdown",
   "id": "adopted-yellow",
   "metadata": {},
   "source": [
    "# Regression: Linear Regression - Part 1"
   ]
  },
  {
   "cell_type": "raw",
   "id": "australian-spider",
   "metadata": {},
   "source": [
    "Regression merupakan metode statistik dan machine learning yang paling banyak digunakan. Seperti yang dijelaskan sebelumnya, regresi digunakan untuk memprediksi output label yang berbentuk numerik atau continuous value. Dalam proses training, model regresi akan menggunakan variabel input (features) dan variabel output (label) untuk mempelajari bagaimana hubungan/pola dari variabel input dan output."
   ]
  },
  {
   "cell_type": "raw",
   "id": "ruled-ethernet",
   "metadata": {},
   "source": [
    "Model regresi terdiri atas 2 tipe yaitu :\n",
    "\n",
    "Simple regression model → model regresi paling sederhana, hanya terdiri dari satu feature (univariate) dan 1 target.\n",
    "Multiple regression model → sesuai namanya, terdiri dari lebih dari satu feature (multivariate).\n",
    "Adapun model regresi yang paling umum digunakan adalah Linear Regression."
   ]
  },
  {
   "cell_type": "markdown",
   "id": "thorough-listing",
   "metadata": {},
   "source": [
    "# Regression: Linear Regression - Part 2"
   ]
  },
  {
   "cell_type": "raw",
   "id": "integrated-dispute",
   "metadata": {},
   "source": [
    "Linear regression digunakan untuk menganalisis hubungan linear antara dependent variabel (feature) dan independent variabel (label). Hubungan linear disini berarti bahwa jika nilai dari independen variabel mengalami perubahan baik itu naik atau turun, maka nilai dari dependen variabel juga mengalami perubahan (naik atau turun). Rumus matematis dari Linear Regression adalah:\n",
    "\n",
    "\n",
    "\n",
    "untuk simple linear regression, atau\n",
    "\n",
    "\n",
    "\n",
    "untuk multiple linear regression dengan, y adalah target/label, X adalah feature, dan a,b adalah model parameter (intercept dan slope)"
   ]
  },
  {
   "cell_type": "raw",
   "id": "million-tulsa",
   "metadata": {},
   "source": [
    "Perlu diketahui bahwa tidak semua problem dapat diselesaikan dengan linear regression. Untuk pemodelan dengan linear regression, terdapat beberapa asumsi yang harus dipenuhi, yaitu :\n",
    "\n",
    "Terdapat hubungan linear antara variabel input (feature) dan variabel output(label). Untuk melihat hubungan linear feature dan label, dapat menggunakan chart seperti scatter chart. Untuk mengetahui hubungan dari variabel umumnya dilakukan pada tahap eksplorasi data.\n",
    "Tidak ada multicollinearity antara features. Multicollinearity artinya terdapat dependency antara feature, misalnya saja hanya bisa mengetahui nilai feature B jika nilai feature A sudah diketahui.\n",
    "Tidak ada autocorrelation dalam data, contohnya pada time-series data.\n",
    " \n",
    "\n",
    "Pemodelan Linear regression menggunakan scikit-learn tidaklah sulit. Secara prosedur serupa dengan pemodelan logistic regression. Cukup memanggil LinearRegression dengan terlebih dahulu meng-import fungsi tersebut :\n",
    "\n",
    "from sklearn.linear_model import LinearRegression\n",
    " \n",
    "\n",
    "“Setelah memahami konsep dasar dari regression, kita akan berlatih membuat model machine learning dengan Linear regression. Untuk pemodelan ini kita akan menggunakan data ‘Boston Housing Dataset’. Setelah pembelajaran kamu sampai di sini, tahu tidak   mengapa kita tidak bisa menggunakan data “online purchase”, Aksara?”\n",
    "\n",
    " \n",
    "\n",
    "Pertanyaan Senja padaku terdengar seperti ujian. Aku berpikir sejenak sebelum menjawab,\n",
    "\n",
    "“Hmm, karena untuk linear regression target/label harus berupa numerik, sedangkan target dari online purchase data adalah categorical. Apakah benar?” jawabku ragu-ragu.\n",
    "\n",
    "Senyum Senja cukup melegakanku.\n",
    "\n",
    " \n",
    "\n",
    "“Tepat sekali, Senja. Kalau begitu kita bisa lanjut ke pemodelan. Tujuan dari pemodelan ini adalah memprediksi harga rumah di Boston berdasarkan feature - feature yang ada. Asumsikan saja bahwa kita sudah melakukan data eksplorasi dan data pre-processing. Jadi, data yang akan digunakan adalah data yang siap untuk diproses ke tahap pemodelan.”"
   ]
  },
  {
   "cell_type": "markdown",
   "id": "serious-worship",
   "metadata": {},
   "source": [
    "# Tugas Praktek"
   ]
  },
  {
   "cell_type": "code",
   "execution_count": 19,
   "id": "devoted-confusion",
   "metadata": {},
   "outputs": [
    {
     "name": "stdout",
     "output_type": "stream",
     "text": [
      "Shape of X: (489, 3)\n",
      "Shape of y: (489,)\n",
      "Shape of X_train : (342, 3)\n",
      "Shape of y_train : (342,)\n",
      "Shape of X_test : (147, 3)\n",
      "Shape of y_test : (147,)\n"
     ]
    }
   ],
   "source": [
    "#load dataset\n",
    "import pandas as pd\n",
    "housing = pd.read_csv('https://storage.googleapis.com/dqlab-dataset/pythonTutorial/housing_boston.csv')\n",
    "#Data rescaling\n",
    "from sklearn import preprocessing\n",
    "data_scaler = preprocessing.MinMaxScaler(feature_range=(0,1))\n",
    "housing[['RM','LSTAT','PTRATIO','MEDV']] = data_scaler.fit_transform(housing[['RM','LSTAT','PTRATIO','MEDV']])\n",
    "# getting dependent and independent variables\n",
    "X = housing.drop(['MEDV'], axis = 1)\n",
    "y = housing['MEDV']\n",
    "# checking the shapes\n",
    "print('Shape of X:', X.shape)\n",
    "print('Shape of y:', y.shape)\n",
    "# splitting the data\n",
    "from sklearn.model_selection import train_test_split\n",
    "X_train, X_test, y_train, y_test = train_test_split(X, y, test_size = 0.3, random_state = 0)\n",
    "# checking the shapes\n",
    "print('Shape of X_train :', X_train.shape)\n",
    "print('Shape of y_train :', y_train.shape)\n",
    "print('Shape of X_test :', X_test.shape)\n",
    "print('Shape of y_test :', y_test.shape)\n",
    "##import regressor from Scikit-Learn\n",
    "from sklearn.linear_model import LinearRegression\n",
    "# Call the regressor\n",
    "reg = LinearRegression()\n",
    "# Fit the regressor to the training data\n",
    "reg = reg.fit(X_train,y_train)\n",
    "# Apply the regressor/model to the test data\n",
    "y_pred = reg.predict(X_test)"
   ]
  },
  {
   "cell_type": "raw",
   "id": "prescribed-assets",
   "metadata": {},
   "source": [
    "Regression Performance Evaluation\n",
    "Aku sudah sampai tahap evaluasi. Sudah sejauh ini tapi ada bagian membingungkan yang kutemukan. Berhubung Senja masih duduk di sebelahku untuk memantau proses kerjaku, aku pun bertanya,\n",
    "\n",
    "“Kalau mengevaluasi perfoma dari model klasifikasi, aku pakai akurasi dan confusion matrix. Nah, kalau modenya regression, metode evaluasinya bagaimana yah. Nja?”\n",
    "\n",
    " \n",
    "\n",
    "Senja yang sedang fokus di depan layar laptop akhirnya menoleh oleh sahutanku.\n",
    "\n",
    "“Untuk model regression, kita menghitung selisih antara nilai aktual (y_test) dan nilai prediksi (y_pred) yang disebut error, adapun beberapa metric yang umum digunakan. Coba kamu ke mari, aku jelaskan langkah-langkahnya.”\n",
    "\n",
    "Keuntungan bertanya pada Senja adalah ia selalu menyempatkan waktunya untuk menjelaskan secara maksimal! Aku fokus memperhatikan:\n",
    "\n",
    "Mean Squared Error (MSE) adalah rata-rata dari squared error:\n",
    "\n",
    "\n",
    "\n",
    "Root Mean Squared Error (RMSE) adalah akar kuadrat dari MSE:\n",
    "\n",
    "\n",
    "\n",
    "Mean Absolute Error (MAE) adalah rata-rata dari nilai absolut error:\n",
    "\n",
    "\n",
    "\n",
    "Semakin kecil nilai MSE, RMSE, dan MAE, semakin baik pula performansi model regresi. Untuk menghitung nilai MSE, RMSE dan MAE dapat dilakukan dengan menggunakan fungsi mean_squared_error () ,  mean_absolute_error () dari scikit-learn.metrics dan untuk RMSE sendiri tidak terdapat fungsi khusus di scikit-learn tapi dapat dengan mudah kita hitung dengan terlebih dahulu menghitung MSE kemudian menggunakan numpy module yaitu, sqrt() untuk memperoleh nilai akar kuadrat dari MSE."
   ]
  },
  {
   "cell_type": "markdown",
   "id": "postal-chrome",
   "metadata": {},
   "source": [
    "# Tugas Praktek"
   ]
  },
  {
   "cell_type": "code",
   "execution_count": 20,
   "id": "straight-enterprise",
   "metadata": {},
   "outputs": [
    {
     "name": "stdout",
     "output_type": "stream",
     "text": [
      "Mean squared error of testing set: 0.010913024655841009\n",
      "Mean absolute error of testing set: 0.07789896103120689\n",
      "Root Mean Squared Error of testing set: 0.1044654232549747\n"
     ]
    },
    {
     "data": {
      "image/png": "[encoded data removed]",
      "text/plain": [
       "<Figure size 864x360 with 1 Axes>"
      ]
     },
     "metadata": {
      "needs_background": "light"
     },
     "output_type": "display_data"
    }
   ],
   "source": [
    "from sklearn.metrics import mean_squared_error, mean_absolute_error\n",
    "import numpy as np\n",
    "import matplotlib.pyplot as plt\n",
    "#Calculating MSE, lower the value better it is. 0 means perfect prediction\n",
    "mse = mean_squared_error(y_test, y_pred)\n",
    "print('Mean squared error of testing set:', mse)\n",
    "#Calculating MAE\n",
    "mae = mean_absolute_error(y_test, y_pred)\n",
    "print('Mean absolute error of testing set:', mae)\n",
    "#Calculating RMSE\n",
    "rmse = np.sqrt(mse)\n",
    "print('Root Mean Squared Error of testing set:', rmse)\n",
    "#Plotting y_test dan y_pred\n",
    "plt.scatter(y_test, y_pred, c = 'green')\n",
    "plt.xlabel('Price Actual')\n",
    "plt.ylabel('Predicted value')\n",
    "plt.title('True value vs predicted value : Linear Regression')\n",
    "plt.show()"
   ]
  },
  {
   "cell_type": "markdown",
   "id": "listed-sociology",
   "metadata": {},
   "source": [
    "# Unsupervised Learning - Algorithm"
   ]
  },
  {
   "cell_type": "raw",
   "id": "gross-sound",
   "metadata": {},
   "source": [
    "Unsupervised Learning adalah teknik machine learning dimana tidak terdapat label atau output yang digunakan untuk melatih model. Jadi, model dengan sendirinya akan bekerja untuk menemukan pola atau informasi dari dataset yang ada. Metode unsupervised learning yang dikenal dengan clustering. Sesuai dengan namanya, Clustering memproses data dan mengelompokkannya atau mengcluster objek/sample berdasarkan kesamaan antar objek/sampel dalam satu kluster, dan objek/sample ini cukup berbeda dengan objek/sample di kluster yang lain. Contohnya pada gambar berikut:"
   ]
  },
  {
   "cell_type": "raw",
   "id": "critical-secretary",
   "metadata": {},
   "source": [
    "\"Nja, mau tanya. Kita tahu dari mana bentuk polanya?”\n",
    "\n",
    "“Pada awalnya kita tidak mengetahui bagaimana pola dari objek/sample, termasuk juga tidak mengetahui bagaimana kesamaan maupun perbedaan antara objek yang satu dengan objek yang lain. Setelah dilakukan clustering, baru dapat terlihat bawah objek/sample tersebut dapat dikelompokkan ke dalam 3 kluster. Untuk menjelaskan tentang metode Clustering, kita akan menggunakan metode clustering yang sangat populer, yaitu K-Means Algorithm yang akan kita praktikkan nanti.”"
   ]
  },
  {
   "cell_type": "raw",
   "id": "literary-necklace",
   "metadata": {},
   "source": [
    "K-Means Clustering\n",
    "\"Jadi, Algorithm K-Means itu apa dan bagaimana cara kerjanya?” tanyaku antusias.\n",
    "\n",
    " “K-Means merupakan tipe clustering dengan centroid based (titik pusat). Artinya kesamaan dari objek/sampel dihitung dari seberapa dekat objek itu dengan centroid atau titik pusat.”\n",
    "\n",
    " \n",
    "\n",
    "Aku masih penasaran. “Jadi, bagaimana kita mengukur kedekatan objek dan centroid?”\n",
    "\n",
    " “Untuk menghitung kedekatan, digunakan perhitungan jarak antar 2 buah data atau jarak Minkowski. Saya share yah rumusnya,” ujar Senja.\n",
    "\n",
    "Aku menyimak isi rumus yang dibagikan Senja di slide presentasinya:\n",
    "\n"
   ]
  },
  {
   "cell_type": "raw",
   "id": "robust-question",
   "metadata": {},
   "source": [
    "xi , xj adalah dua buah data yang akan dihitung jaraknya, dan p = dimensi/jumlah dari data\n",
    "\n",
    "Terdapat beberapa tipe perhitungan jarak yang dapat digunakan, yaitu :\n",
    "\n",
    "Jarak Manhattan di mana g = 1\n",
    "Jarak Euclidean di mana g = 2\n",
    "Jarak Chebychev di mana g = ∞\n",
    " “Nja, aku masih bingung, cara menentukan centroid bagaimana caranya?”\n",
    "\n",
    " \n",
    "\n",
    " “Untuk menentukan centroid, pada awalnya kita perlu mendefinisikan jumlah centroid (K) yang diinginkan, semisalnya kita menetapkan jumlah K = 3; maka pada awal iterasi, algorithm akan secara random menentukan 3 centroid. Setelah itu, objek/sample/data point yang lain akan dikelompokkan sebagai anggota dari salah satu centroid yang terdekat, sehingga terbentuk 3 cluster data. Sampai sini cukup dipahami?”\n",
    "\n",
    " \n",
    "\n",
    "“Yup, boleh lanjut, Nja,” sahutku mempersilakan Senja kembali menjelaskan.\n",
    "\n",
    "“Iterasi selanjutnya, titik-titik centroid diupdate atau berpindah ke titik yang lain, dan jarak dari data point yang lain ke centroid yang baru dihitung kembali, kemudian dikelompokkan kembali berdasarkan jarak terdekat ke centroid yang baru. Iterasi akan terus berlanjut hingga diperoleh cluster dengan error terkecil, dan posisi centroid tidak lagi berubah.”\n",
    "\n",
    "\n",
    "\n",
    "“Kamu sudah bisa lihat di layar ya, Aksara. Menurutmu, apakah ada perbedaan prosedur antara unsupervised learning dan supervised learning?”\n",
    "\n",
    " \n",
    "\n",
    "Aku tahu ini pertanyaan untuk menguji pemahamanku.\n",
    "\n",
    "“Secara prosedur, tahap eksplorasi data untuk memahami karakteristik data, dan tahap preprocessing tetap dilakukan. Tetapi dalam unsupervised learning, kita tidak membagi dataset ke feature dan label; dan juga ke dalam training dan test dataset, karena pada dasarnya kita tidak memiliki informasi mengenai label/target data,” jawabku mantap.\n",
    "\n",
    " "
   ]
  },
  {
   "cell_type": "markdown",
   "id": "strategic-burst",
   "metadata": {},
   "source": [
    "# Tugas Praktek"
   ]
  },
  {
   "cell_type": "code",
   "execution_count": 21,
   "id": "relative-butler",
   "metadata": {},
   "outputs": [],
   "source": [
    "#import library\n",
    "import pandas as pd  \n",
    "from sklearn.cluster import KMeans\n",
    "\n",
    "#load dataset\n",
    "dataset = pd.read_csv('https://storage.googleapis.com/dqlab-dataset/pythonTutorial/mall_customers.csv')\n",
    "\n",
    "#selecting features  \n",
    "X = dataset[['annual_income','spending_score']]  \n",
    "\n",
    "#Define KMeans as cluster_model  \n",
    "cluster_model =  KMeans(n_clusters = 5, random_state = 24)  \n",
    "labels = cluster_model.fit_predict(X)"
   ]
  },
  {
   "cell_type": "markdown",
   "id": "experimental-world",
   "metadata": {},
   "source": [
    "# Tugas Praktek\n",
    "Inspect & Visualizing the Cluster"
   ]
  },
  {
   "cell_type": "code",
   "execution_count": null,
   "id": "emerging-module",
   "metadata": {},
   "outputs": [],
   "source": [
    "#import library\n",
    "import matplotlib.pyplot as plt\n",
    "\n",
    "#convert dataframe to array\n",
    "X = X.values()\n",
    "#Separate X to xs and ys --> use for chart axis\n",
    "xs = X[:,0]\n",
    "ys = X[:,1]\n",
    "# Make a scatter plot of xs and ys, using labels to define the colors\n",
    "plt.scate(___,___,c=___, alpha=___)\n",
    "\n",
    "# Assign the cluster centers: centroids\n",
    "centroids = cluster_model.___\n",
    "# Assign the columns of centroids: centroids_x, centroids_y\n",
    "centroids_x = ___[:,0]\n",
    "centroids_y = ___[:,1]\n",
    "# Make a scatter plot of centroids_x and centroids_y\n",
    "plt.___(___,___,marker='___', s=___)\n",
    "plt.title('___', fontsize = 20)\n",
    "plt.xlabel('___')\n",
    "plt.ylabel('___')\n",
    "plt.show()"
   ]
  }
 ],
 "metadata": {
  "kernelspec": {
   "display_name": "Python 3",
   "language": "python",
   "name": "python3"
  },
  "language_info": {
   "codemirror_mode": {
    "name": "ipython",
    "version": 3
   },
   "file_extension": ".py",
   "mimetype": "text/x-python",
   "name": "python",
   "nbconvert_exporter": "python",
   "pygments_lexer": "ipython3",
   "version": "3.8.5"
  }
 },
 "nbformat": 4,
 "nbformat_minor": 5
}
