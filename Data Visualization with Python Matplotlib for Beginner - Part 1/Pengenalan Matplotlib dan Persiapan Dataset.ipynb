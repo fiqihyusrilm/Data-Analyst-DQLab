{
 "cells": [
  {
   "cell_type": "markdown",
   "id": "competent-courage",
   "metadata": {},
   "source": [
    "## Pengenalan Dataset"
   ]
  },
  {
   "cell_type": "code",
   "execution_count": 1,
   "id": "proof-diamond",
   "metadata": {},
   "outputs": [
    {
     "name": "stdout",
     "output_type": "stream",
     "text": [
      "Ukuran dataset: 5000 baris dan 9 kolom\n",
      "\n",
      "Lima data teratas:\n",
      "   order_id  order_date  customer_id             city     province product_id  \\\n",
      "0   1703458  2019-10-17        14004  Jakarta Selatan  DKI Jakarta      P1910   \n",
      "1   1706815  2019-10-24        17220  Jakarta Selatan  DKI Jakarta      P2934   \n",
      "2   1710718  2019-11-03        16518    Jakarta Utara  DKI Jakarta      P0908   \n",
      "3   1683592  2019-08-19        16364    Jakarta Barat  DKI Jakarta      P0128   \n",
      "4   1702573  2019-10-16        15696    Jakarta Timur  DKI Jakarta      P2968   \n",
      "\n",
      "     brand  quantity  item_price  \n",
      "0  BRAND_J        10      740000  \n",
      "1  BRAND_R         2      604000  \n",
      "2  BRAND_C         8     1045000  \n",
      "3  BRAND_A         4      205000  \n",
      "4  BRAND_R         2     4475000  \n"
     ]
    }
   ],
   "source": [
    "import pandas as pd\n",
    "dataset = pd.read_csv('https://dqlab-dataset.s3-ap-southeast-1.amazonaws.com/retail_raw_reduced.csv')\n",
    "print('Ukuran dataset: %d baris dan %d kolom\\n' % dataset.shape)\n",
    "print('Lima data teratas:')\n",
    "print(dataset.head())"
   ]
  },
  {
   "cell_type": "markdown",
   "id": "polyphonic-cliff",
   "metadata": {},
   "source": [
    "Penjelasan Dataset\n",
    "“Berikut ini tampilan data transaksi supermarket kita sepanjang tahun 2019, lengkap dengan masing-masing penjelasannya untuk tiap kolom. Bisa kita simak bersama untuk pertimbangan  strategi kita ke depan,” jelas Andra.\n",
    "\n",
    "Aku dan teman-teman di ruangan rapat sibuk menyimak penjelasan ini:\n",
    "\n",
    "order_id : ID dari order/transaksi, 1 transaksi bisa terdiri dari beberapa produk, tetapi hanya dilakukan oleh 1 customer\n",
    "order_date : tanggal terjadinya transaksi\n",
    "customer_id : ID dari pembeli, bisa jadi dalam satu hari, 1 customer melakukan transaksi beberapa kali\n",
    "city : kota tempat toko terjadinya transaksi\n",
    "province : provinsi (berdasarkan city)\n",
    "product_id : ID dari suatu product yang dibeli\n",
    "brand : brand/merk dari product. Suatu product yang sama pasti memiliki brand yang sama\n",
    "quantity : Kuantitas / banyaknya product yang dibeli\n",
    "item_price : Harga dari 1 product (dalam Rupiah). Suatu product yang sama, bisa jadi memiliki harga yang berbeda saat dibeli\n",
    "“Jika penjelasan data barusan sudah dapat dicerna, saya akan menampilkan Gross Merchandise Value atau total uang yang dibayarkan customer. Aksara tolong tampilkan grafiknya pada layar.”\n",
    "\n",
    "“Oke.” Aku pun beranjak dari tempat duduk dan mengganti dokumen."
   ]
  },
  {
   "cell_type": "markdown",
   "id": "robust-buffalo",
   "metadata": {},
   "source": [
    "## Penambahan Kolom Order Month pada Dataset"
   ]
  },
  {
   "cell_type": "code",
   "execution_count": 2,
   "id": "dominican-nerve",
   "metadata": {},
   "outputs": [
    {
     "name": "stdout",
     "output_type": "stream",
     "text": [
      "   order_id  order_date  customer_id             city     province product_id  \\\n",
      "0   1703458  2019-10-17        14004  Jakarta Selatan  DKI Jakarta      P1910   \n",
      "1   1706815  2019-10-24        17220  Jakarta Selatan  DKI Jakarta      P2934   \n",
      "2   1710718  2019-11-03        16518    Jakarta Utara  DKI Jakarta      P0908   \n",
      "3   1683592  2019-08-19        16364    Jakarta Barat  DKI Jakarta      P0128   \n",
      "4   1702573  2019-10-16        15696    Jakarta Timur  DKI Jakarta      P2968   \n",
      "\n",
      "     brand  quantity  item_price order_month  \n",
      "0  BRAND_J        10      740000     2019-10  \n",
      "1  BRAND_R         2      604000     2019-10  \n",
      "2  BRAND_C         8     1045000     2019-11  \n",
      "3  BRAND_A         4      205000     2019-08  \n",
      "4  BRAND_R         2     4475000     2019-10  \n"
     ]
    }
   ],
   "source": [
    "import datetime\n",
    "dataset['order_month'] = dataset['order_date'].apply(lambda x: datetime.datetime.strptime(x, \"%Y-%m-%d\").strftime('%Y-%m'))\n",
    "print(dataset.head())"
   ]
  },
  {
   "cell_type": "markdown",
   "id": "turned-suite",
   "metadata": {},
   "source": [
    "## Penambahan Kolom GMV pada Dataset"
   ]
  },
  {
   "cell_type": "code",
   "execution_count": 3,
   "id": "seven-affiliation",
   "metadata": {},
   "outputs": [
    {
     "name": "stdout",
     "output_type": "stream",
     "text": [
      "Ukuran dataset: 5000 baris dan 11 kolom\n",
      "\n",
      "Lima data teratas:\n",
      "   order_id  order_date  customer_id             city     province product_id  \\\n",
      "0   1703458  2019-10-17        14004  Jakarta Selatan  DKI Jakarta      P1910   \n",
      "1   1706815  2019-10-24        17220  Jakarta Selatan  DKI Jakarta      P2934   \n",
      "2   1710718  2019-11-03        16518    Jakarta Utara  DKI Jakarta      P0908   \n",
      "3   1683592  2019-08-19        16364    Jakarta Barat  DKI Jakarta      P0128   \n",
      "4   1702573  2019-10-16        15696    Jakarta Timur  DKI Jakarta      P2968   \n",
      "\n",
      "     brand  quantity  item_price order_month      gmv  \n",
      "0  BRAND_J        10      740000     2019-10  7400000  \n",
      "1  BRAND_R         2      604000     2019-10  1208000  \n",
      "2  BRAND_C         8     1045000     2019-11  8360000  \n",
      "3  BRAND_A         4      205000     2019-08   820000  \n",
      "4  BRAND_R         2     4475000     2019-10  8950000  \n"
     ]
    }
   ],
   "source": [
    "dataset['gmv'] = dataset['item_price']*dataset['quantity']\n",
    "print('Ukuran dataset: %d baris dan %d kolom\\n' % dataset.shape)\n",
    "print('Lima data teratas:')\n",
    "print(dataset.head())"
   ]
  },
  {
   "cell_type": "markdown",
   "id": "perfect-bankruptcy",
   "metadata": {},
   "source": [
    "## Membuat Data Agregat"
   ]
  },
  {
   "cell_type": "code",
   "execution_count": 4,
   "id": "current-adventure",
   "metadata": {},
   "outputs": [
    {
     "name": "stdout",
     "output_type": "stream",
     "text": [
      "  order_month         gmv\n",
      "0     2019-07  3524041000\n",
      "1     2019-08  4452923000\n",
      "2     2019-09  3947002000\n",
      "3     2019-10  6719937000\n",
      "4     2019-11  6182229000\n",
      "5     2019-12  8148235000\n"
     ]
    }
   ],
   "source": [
    "monthly_amount = dataset.groupby('order_month')['gmv'].sum().reset_index()\n",
    "print(monthly_amount)"
   ]
  },
  {
   "cell_type": "markdown",
   "id": "aquatic-mentor",
   "metadata": {},
   "source": [
    "## Plot Pertama: Membuat Line Chart Trend Pertumbuhan GMV"
   ]
  },
  {
   "cell_type": "code",
   "execution_count": 5,
   "id": "enclosed-david",
   "metadata": {},
   "outputs": [
    {
     "data": {
      "image/png": "[encoded data removed]",
      "text/plain": [
       "<Figure size 432x288 with 1 Axes>"
      ]
     },
     "metadata": {
      "needs_background": "light"
     },
     "output_type": "display_data"
    }
   ],
   "source": [
    "import matplotlib.pyplot as plt\n",
    "plt.plot(monthly_amount['order_month'], monthly_amount['gmv'])\n",
    "plt.show()"
   ]
  },
  {
   "cell_type": "markdown",
   "id": "valid-insured",
   "metadata": {},
   "source": [
    "## Cara Alternatif: Fungsi .plot() pada pandas Dataframe"
   ]
  },
  {
   "cell_type": "code",
   "execution_count": 6,
   "id": "generic-chain",
   "metadata": {},
   "outputs": [
    {
     "data": {
      "image/png": "[encoded data removed]",
      "text/plain": [
       "<Figure size 432x288 with 1 Axes>"
      ]
     },
     "metadata": {
      "needs_background": "light"
     },
     "output_type": "display_data"
    }
   ],
   "source": [
    "import matplotlib.pyplot as plt\n",
    "dataset.groupby(['order_month'])['gmv'].sum().plot()\n",
    "plt.show()"
   ]
  },
  {
   "cell_type": "markdown",
   "id": "strange-dairy",
   "metadata": {},
   "source": [
    "## Anatomi dari Figure"
   ]
  },
  {
   "cell_type": "code",
   "execution_count": null,
   "id": "relevant-valentine",
   "metadata": {},
   "outputs": [],
   "source": []
  }
 ],
 "metadata": {
  "kernelspec": {
   "display_name": "Python 3",
   "language": "python",
   "name": "python3"
  },
  "language_info": {
   "codemirror_mode": {
    "name": "ipython",
    "version": 3
   },
   "file_extension": ".py",
   "mimetype": "text/x-python",
   "name": "python",
   "nbconvert_exporter": "python",
   "pygments_lexer": "ipython3",
   "version": "3.8.5"
  }
 },
 "nbformat": 4,
 "nbformat_minor": 5
}
