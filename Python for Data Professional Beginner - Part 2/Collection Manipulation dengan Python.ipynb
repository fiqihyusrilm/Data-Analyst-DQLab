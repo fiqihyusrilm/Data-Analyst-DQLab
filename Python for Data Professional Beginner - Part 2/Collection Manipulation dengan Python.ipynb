{
 "cells": [
  {
   "cell_type": "markdown",
   "id": "applied-symposium",
   "metadata": {},
   "source": [
    "Mengakses List dan Tuple – Part 1"
   ]
  },
  {
   "cell_type": "code",
   "execution_count": 1,
   "id": "boring-asian",
   "metadata": {},
   "outputs": [
    {
     "name": "stdout",
     "output_type": "stream",
     "text": [
      "Januari\n",
      "Juni\n",
      "Desember\n",
      "November\n"
     ]
    }
   ],
   "source": [
    "bulan_pembelian = ('Januari', 'Februari', 'Maret', 'April', 'Mei', 'Juni', 'Juli', 'Agustus', 'September', 'Oktober', 'November', 'Desember')\n",
    "print(bulan_pembelian[0])\n",
    "print(bulan_pembelian[5])\n",
    "print(bulan_pembelian[-1])\n",
    "print(bulan_pembelian[-2])"
   ]
  },
  {
   "cell_type": "markdown",
   "id": "golden-appliance",
   "metadata": {},
   "source": [
    "Mengakses List dan Tuple – Part 2"
   ]
  },
  {
   "cell_type": "code",
   "execution_count": 5,
   "id": "perfect-aircraft",
   "metadata": {},
   "outputs": [
    {
     "name": "stdout",
     "output_type": "stream",
     "text": [
      "('Mei', 'Juni', 'Juli', 'Agustus')\n",
      "('Januari', 'Februari', 'Maret', 'April', 'Mei')\n",
      "('September', 'Oktober', 'November', 'Desember')\n",
      "('September', 'Oktober', 'November')\n"
     ]
    }
   ],
   "source": [
    "bulan_pembelian = ('Januari', 'Februari', 'Maret', 'April', 'Mei',  'Juni', 'Juli', 'Agustus', 'September', 'Oktober', 'November', 'Desember')\n",
    "pertengahan_tahun = bulan_pembelian[4:8]\n",
    "print(pertengahan_tahun)\n",
    "awal_tahun = bulan_pembelian[:5]\n",
    "print(awal_tahun)\n",
    "akhir_tahun = bulan_pembelian[8:]\n",
    "print(akhir_tahun)\n",
    "print(bulan_pembelian[-4:-1])"
   ]
  },
  {
   "cell_type": "markdown",
   "id": "proprietary-equity",
   "metadata": {},
   "source": [
    "Penggabungan Dua atau Lebih List atau Tuple"
   ]
  },
  {
   "cell_type": "code",
   "execution_count": 6,
   "id": "removable-remove",
   "metadata": {},
   "outputs": [
    {
     "name": "stdout",
     "output_type": "stream",
     "text": [
      "['Gado-gado', 'Ayam Goreng', 'Rendang', 'Es Teh', 'Es Jeruk', 'Es Campur']\n"
     ]
    }
   ],
   "source": [
    "list_makanan = ['Gado-gado', 'Ayam Goreng', 'Rendang']\n",
    "list_minuman = ['Es Teh', 'Es Jeruk', 'Es Campur']\n",
    "list_menu = list_makanan + list_minuman\n",
    "print(list_menu)"
   ]
  },
  {
   "cell_type": "markdown",
   "id": "reasonable-creativity",
   "metadata": {},
   "source": [
    "List Manipulation – Part 1"
   ]
  },
  {
   "cell_type": "code",
   "execution_count": 7,
   "id": "voluntary-making",
   "metadata": {},
   "outputs": [
    {
     "name": "stdout",
     "output_type": "stream",
     "text": [
      ">>> Fitur .append()\n",
      "['Gado-gado', 'Ayam Goreng', 'Rendang', 'Ketoprak']\n",
      ">>> Fitur .clear()\n",
      "[]\n",
      ">>> Fitur .copy()\n",
      "['Gado-gado', 'Ayam Goreng', 'Rendang', 'Ketoprak']\n",
      "['Gado-gado', 'Ayam Goreng', 'Rendang', 'Opor']\n",
      ">>> Fitur .count()\n",
      "4\n",
      "3\n",
      ">>> Fitur .extend()\n",
      "['Gado-gado', 'Ayam Goreng', 'Rendang', 'Es Teh', 'Es Jeruk', 'Es Campur']\n"
     ]
    }
   ],
   "source": [
    "# Fitur .append()\n",
    "print(\">>> Fitur .append()\")\n",
    "list_makanan = ['Gado-gado', 'Ayam Goreng', 'Rendang']\n",
    "list_makanan.append('Ketoprak')\n",
    "print(list_makanan)\n",
    "# Fitur .clear()\n",
    "print(\">>> Fitur .clear()\")\n",
    "list_makanan = ['Gado-gado', 'Ayam Goreng', 'Rendang']\n",
    "list_makanan.clear()\n",
    "print(list_makanan)\n",
    "# Fitur .copy()\n",
    "print(\">>> Fitur .copy()\")\n",
    "list_makanan1 = ['Gado-gado', 'Ayam Goreng', 'Rendang']\n",
    "list_makanan2 = list_makanan1.copy()\n",
    "list_makanan3 = list_makanan1\n",
    "list_makanan2.append('Opor')\n",
    "list_makanan3.append('Ketoprak')\n",
    "print(list_makanan1)\n",
    "print(list_makanan2)\n",
    "# Fitur .count()\n",
    "print(\">>> Fitur .count()\")\n",
    "list_score = ['Budi', 'Sud', 'Budi', 'Budi', 'Budi', 'Sud', 'Sud']\n",
    "score_budi = list_score.count('Budi')\n",
    "score_sud = list_score.count('Sud')\n",
    "print(score_budi) # akan menampilkan output 4\n",
    "print(score_sud) # akan menampilkan output 3\n",
    "# Fitur .extend()\n",
    "print(\">>> Fitur .extend()\")\n",
    "list_menu = ['Gado-gado', 'Ayam Goreng', 'Rendang']\n",
    "list_minuman = ['Es Teh', 'Es Jeruk', 'Es Campur']\n",
    "list_menu.extend(list_minuman)\n",
    "print(list_menu)"
   ]
  },
  {
   "cell_type": "markdown",
   "id": "aging-promise",
   "metadata": {},
   "source": [
    "List Manipulation – Part 2"
   ]
  },
  {
   "cell_type": "code",
   "execution_count": 8,
   "id": "disciplinary-charm",
   "metadata": {},
   "outputs": [
    {
     "name": "stdout",
     "output_type": "stream",
     "text": [
      ">>> Fitur .index()\n",
      "2\n",
      ">>> Fitur .insert()\n",
      "['Budi', 'Sud', 'Budi', 'Sud', 'Budi', 'Sud']\n",
      ">>> Fitur .pop()\n",
      "['Gado-gado', 'Rendang']\n",
      ">>> Fitur .remove()\n",
      "['Gado-gado', 'Ayam Goreng', 'Ketoprak']\n",
      ">>> Fitur .reverse()\n",
      "['Ketoprak', 'Rendang', 'Ayam Goreng', 'Gado-gado']\n",
      ">>> Fitur .sort()\n",
      "['Ayam Goreng', 'Gado-gado', 'Ketoprak', 'Rendang']\n",
      "['Rendang', 'Ketoprak', 'Gado-gado', 'Ayam Goreng']\n"
     ]
    }
   ],
   "source": [
    "# Fitur .index()\n",
    "print(\">>> Fitur .index()\")\n",
    "list_score = ['Budi','Sud','Budi','Budi','Budi','Sud','Sud']\n",
    "score_pertama_sud = list_score.index('Sud') + 1\n",
    "print(score_pertama_sud) # akan menampilkan output 2\n",
    "# Fitur .insert()\n",
    "print(\">>> Fitur .insert()\")\n",
    "list_score = ['Budi','Sud','Budi','Budi','Sud']\n",
    "list_score.insert(3, 'Sud')\n",
    "print(list_score)\n",
    "# Fitur .pop()\n",
    "print(\">>> Fitur .pop()\")\n",
    "list_menu = ['Gado-gado', 'Ayam Goreng', 'Rendang']\n",
    "list_menu.pop(1)\n",
    "print(list_menu)\n",
    "# Fitur .remove()\n",
    "print(\">>> Fitur .remove()\")\n",
    "list_menu = ['Gado-gado', 'Ayam Goreng', 'Rendang', 'Ketoprak']\n",
    "list_menu.remove('Rendang')\n",
    "print(list_menu)\n",
    "# Fitur .reverse()\n",
    "print(\">>> Fitur .reverse()\")\n",
    "list_menu = ['Gado-gado', 'Ayam Goreng', 'Rendang', 'Ketoprak']\n",
    "list_menu.reverse()\n",
    "print(list_menu)\n",
    "# Fitur .sort()\n",
    "print(\">>> Fitur .sort()\")\n",
    "list_menu = ['Gado-gado', 'Ayam Goreng', 'Rendang', 'Ketoprak']\n",
    "list_menu.sort() # Default: Ascending\n",
    "print(list_menu) \n",
    "list_menu.sort(reverse=True)# Descending\n",
    "print(list_menu) "
   ]
  },
  {
   "cell_type": "markdown",
   "id": "ignored-korean",
   "metadata": {},
   "source": [
    "Tuple Manipulation"
   ]
  },
  {
   "cell_type": "code",
   "execution_count": 9,
   "id": "running-hurricane",
   "metadata": {},
   "outputs": [
    {
     "name": "stdout",
     "output_type": "stream",
     "text": [
      ">>> Fitur .count()\n",
      "4\n",
      "3\n",
      ">>> Fitur .index()\n",
      "2\n"
     ]
    }
   ],
   "source": [
    "# Fitur .count()\n",
    "print(\">>> Fitur .count()\")\n",
    "tuple_score = ('Budi', 'Sud', 'Budi', 'Budi', 'Budi', 'Sud', 'Sud')\n",
    "score_budi = tuple_score.count('Budi')\n",
    "score_sud = tuple_score.count('Sud')\n",
    "print(score_budi) # akan menampilkan output 4\n",
    "print(score_sud) # akan menampilkan output 3\n",
    "# Fitur .index()\n",
    "print(\">>> Fitur .index()\")\n",
    "tuple_score = ('Budi','Sud','Budi','Budi','Budi','Sud','Sud')\n",
    "score_pertama_sud = tuple_score.index('Sud')+1\n",
    "print(score_pertama_sud) # akan menampilkan output 2"
   ]
  },
  {
   "cell_type": "markdown",
   "id": "tutorial-applicant",
   "metadata": {},
   "source": [
    "Set Manipulation – Part 1"
   ]
  },
  {
   "cell_type": "code",
   "execution_count": 10,
   "id": "tight-cutting",
   "metadata": {},
   "outputs": [
    {
     "name": "stdout",
     "output_type": "stream",
     "text": [
      ">>> Fitur .add()\n",
      "{'Jeruk', 'Melon', 'Apel', 'Anggur'}\n",
      ">>> Fitur .clear()\n",
      "set()\n",
      ">>> Fitur .copy()\n",
      "{'Jeruk', 'Melon', 'Apel', 'Anggur'}\n",
      "{'Jeruk', 'Melon', 'Apel', 'Anggur'}\n",
      ">>> Fitur .update()\n",
      "{'Anggur', 'Kiwi', 'Jeruk', 'Apel', 'Melon'}\n",
      ">>> Fitur .pop()\n",
      "Jeruk\n",
      "{'Apel', 'Anggur'}\n",
      ">>> Fitur .remove()\n",
      "{'Jeruk', 'Anggur'}\n"
     ]
    }
   ],
   "source": [
    "# Fitur .add()\n",
    "print(\">>> Fitur .add()\")\n",
    "set_buah = {'Jeruk','Apel','Anggur'}\n",
    "set_buah.add('Melon')\n",
    "print(set_buah)\n",
    "# Fitur .clear()\n",
    "print(\">>> Fitur .clear()\")\n",
    "set_buah = {'Jeruk','Apel','Anggur'}\n",
    "set_buah.clear()\n",
    "print(set_buah)\n",
    "# Fitur .copy()\n",
    "print(\">>> Fitur .copy()\")\n",
    "set_buah1 = {'Jeruk','Apel','Anggur'}\n",
    "set_buah2 = set_buah1\n",
    "set_buah3 = set_buah1.copy()\n",
    "set_buah2.add('Melon')\n",
    "set_buah3.add('Kiwi')\n",
    "print(set_buah1)\n",
    "print(set_buah2)\n",
    "# Fitur .update()\n",
    "print(\">>> Fitur .update()\")\n",
    "parcel1 = {'Anggur','Apel','Jeruk'}\n",
    "parcel2 = {'Apel','Kiwi','Melon'}\n",
    "parcel1.update(parcel2)\n",
    "print(parcel1)\n",
    "# Fitur .pop()\n",
    "print(\">>> Fitur .pop()\")\n",
    "parcel = {'Anggur','Apel','Jeruk'}\n",
    "buah = parcel.pop()\n",
    "print(buah)\n",
    "print(parcel)\n",
    "# Fitur .remove()\n",
    "print(\">>> Fitur .remove()\")\n",
    "parcel = {'Anggur','Apel','Jeruk'}\n",
    "parcel.remove('Apel')\n",
    "print(parcel)"
   ]
  },
  {
   "cell_type": "markdown",
   "id": "parental-captain",
   "metadata": {},
   "source": [
    "Set Manipulation – Part 2"
   ]
  },
  {
   "cell_type": "code",
   "execution_count": 11,
   "id": "literary-edgar",
   "metadata": {},
   "outputs": [
    {
     "name": "stdout",
     "output_type": "stream",
     "text": [
      ">>> Fitur .union()\n",
      "{'Jeruk', 'Apel', 'Anggur'}\n",
      "{'Anggur', 'Kiwi', 'Jeruk', 'Apel', 'Melon'}\n",
      ">>> Fitur .isdisjoint()\n",
      "True\n",
      "False\n",
      ">>> Fitur .issubset()\n",
      "True\n",
      "False\n",
      ">>> Fitur .issuperset()\n",
      "True\n",
      "False\n",
      ">>> Fitur .intersection()\n",
      "{'Jeruk', 'Apel'}\n",
      ">>> Fitur .difference()\n",
      "{'Kiwi', 'Melon', 'Anggur'}\n",
      ">>> Fitur .symmetric_difference()\n",
      "{'Anggur', 'Semangka', 'Melon', 'Leci'}\n"
     ]
    }
   ],
   "source": [
    "# Fitur .union()\n",
    "print(\">>> Fitur .union()\")\n",
    "parcel1 = {'Anggur','Apel','Jeruk'}\n",
    "parcel2 = {'Apel','Kiwi','Melon'}\n",
    "parcel3 = parcel1.union(parcel2)\n",
    "print(parcel1)\n",
    "print(parcel3)\n",
    "# Fitur .isdisjoint()\n",
    "print(\">>> Fitur .isdisjoint()\")\n",
    "parcel1 = {'Anggur','Apel','Jeruk'}\n",
    "parcel2 = {'Kiwi','Melon','Pisang'}\n",
    "parcel3 = {'Apel','Srikaya','Semangka'}\n",
    "parcel1_parcel2_disjoint = parcel1.isdisjoint(parcel2)\n",
    "print(parcel1_parcel2_disjoint)\n",
    "parcel1_parcel3_disjoint = parcel1.isdisjoint(parcel3)\n",
    "print(parcel1_parcel3_disjoint)\n",
    "# Fitur .issubset()\n",
    "print(\">>> Fitur .issubset()\")\n",
    "parcel_A = {'Anggur', 'Apel'}\n",
    "parcel_B = {'Durian','Semangka','Apel'}\n",
    "parcel_C = {'Anggur', 'Kiwi', 'Apel', 'Jeruk', 'Melon'}\n",
    "parcel_A_dalam_C = parcel_A.issubset(parcel_C)\n",
    "parcel_B_dalam_C = parcel_B.issubset(parcel_C)\n",
    "print(parcel_A_dalam_C)\n",
    "print(parcel_B_dalam_C)\n",
    "# Fitur .issuperset()\n",
    "print(\">>> Fitur .issuperset()\")\n",
    "parcel_C_mengandung_A = parcel_C.issuperset(parcel_A)\n",
    "parcel_C_mengandung_B = parcel_C.issuperset(parcel_B)\n",
    "print(parcel_C_mengandung_A)\n",
    "print(parcel_C_mengandung_B)\n",
    "# Fitur .intersection()\n",
    "print(\">>> Fitur .intersection()\")\n",
    "parcel_A = {'Anggur', 'Kiwi', 'Apel', 'Jeruk', 'Melon'}\n",
    "parcel_B = {'Apel', 'Jeruk', 'Semangka', 'Durian', 'Tomat'}\n",
    "parcel_C = parcel_A.intersection(parcel_B)\n",
    "print(parcel_C)\n",
    "# Fitur .difference()\n",
    "print(\">>> Fitur .difference()\")\n",
    "parcel_C = parcel_A.difference(parcel_B)\n",
    "print(parcel_C)\n",
    "# Fitur .symmetric_difference()\n",
    "print(\">>> Fitur .symmetric_difference()\")\n",
    "parcel_A = {'Anggur', 'Apel', 'Jeruk', 'Melon'}\n",
    "parcel_B = {'Apel','Jeruk','Semangka','Leci'}\n",
    "parcel_C = parcel_A.symmetric_difference(parcel_B)\n",
    "print(parcel_C)"
   ]
  },
  {
   "cell_type": "markdown",
   "id": "noble-beads",
   "metadata": {},
   "source": [
    "Dictionary Manipulation"
   ]
  },
  {
   "cell_type": "code",
   "execution_count": 12,
   "id": "level-magnitude",
   "metadata": {},
   "outputs": [
    {
     "name": "stdout",
     "output_type": "stream",
     "text": [
      ">>> Fitur .clear()\n",
      "{}\n",
      ">>> Fitur .copy()\n",
      "{'nama': 'Aksara', 'nik': '1211011', 'pekerjaan': 'Data Analyst'}\n",
      "{'nama': 'Senja', 'nik': '1211056', 'pekerjaan': 'Data Analyst'}\n",
      ">>> Fitur .keys()\n",
      "['nama', 'nik', 'pekerjaan']\n",
      ">>> Fitur .values()\n",
      "['Aksara', '1211011', 'Data Analyst']\n",
      ">>> Fitur .update()\n",
      "{'nama': 'Aksara', 'nik': '1211011', 'pekerjaan': 'Data Analyst', 'skillset': ['Python', 'R']}\n"
     ]
    }
   ],
   "source": [
    "# Fitur .clear()\n",
    "print(\">>> Fitur .clear()\")\n",
    "info_karyawan = {'nama' : 'Aksara',\n",
    "                 'nik' : '1211011',\n",
    "                 'pekerjaan' : 'Data Analyst'}\n",
    "info_karyawan.clear()\n",
    "print(info_karyawan)\n",
    "# Fitur .copy()\n",
    "print(\">>> Fitur .copy()\")\n",
    "info_karyawan1 = {'nama' : 'Aksara',\n",
    "                  'nik' : '1211011',\n",
    "                  'pekerjaan' : 'Data Analyst'}\n",
    "info_karyawan2 = info_karyawan1.copy()\n",
    "info_karyawan2['nama'] = 'Senja'\n",
    "info_karyawan2['nik'] = '1211056'\n",
    "print(info_karyawan1)\n",
    "print(info_karyawan2)\n",
    "# Fitur .keys()\n",
    "print(\">>> Fitur .keys()\")\n",
    "info_karyawan = {'nama' : 'Aksara',\n",
    "                 'nik' : '1211011',\n",
    "                 'pekerjaan' : 'Data Analyst'}\n",
    "kunci_akses = list(info_karyawan.keys())\n",
    "print(kunci_akses)\n",
    "# Fitur .values()\n",
    "print(\">>> Fitur .values()\")\n",
    "value_dict = list(info_karyawan.values())\n",
    "print(value_dict)\n",
    "# Fitur .update()\n",
    "print(\">>> Fitur .update()\")\n",
    "info_karyawan.update({'skillset':['Python', 'R']})\n",
    "print(info_karyawan)"
   ]
  },
  {
   "cell_type": "markdown",
   "id": "understanding-religious",
   "metadata": {},
   "source": [
    "## Useful Tips and Tricks"
   ]
  },
  {
   "cell_type": "code",
   "execution_count": 13,
   "id": "honest-style",
   "metadata": {},
   "outputs": [
    {
     "name": "stdout",
     "output_type": "stream",
     "text": [
      ">>> Tuple\n",
      "4\n",
      ">>> List\n",
      "4\n",
      ">>> Konversi tipe data\n",
      "{'Jeruk', 'Apel', 'Markisa'}\n",
      "['Apel', 'Jeruk', 'Markisa']\n"
     ]
    }
   ],
   "source": [
    "# Tuple\n",
    "print(\">>> Tuple\")\n",
    "tuple_menu = ('Gado-gado','Ayam Goreng','Rendang','Ketoprak')\n",
    "jumlah_menu = len(tuple_menu)\n",
    "print(jumlah_menu)\n",
    "# List\n",
    "print(\">>> List\")\n",
    "list_menu = ['Gado-gado','Ayam Goreng','Rendang','Ketoprak']\n",
    "jumlah_menu = len(list_menu)\n",
    "print(jumlah_menu)\n",
    "# Konversi tipe data\n",
    "print(\">>> Konversi tipe data\")\n",
    "list_buah = ['Apel', 'Apel', 'Jeruk', 'Markisa', 'Jeruk', 'Markisa', 'Apel']\n",
    "set_buah = set(list_buah)\n",
    "print(set_buah)\n",
    "list_buah = list(set_buah)\n",
    "list_buah.sort()\n",
    "print(list_buah)"
   ]
  },
  {
   "cell_type": "markdown",
   "id": "demanding-hierarchy",
   "metadata": {},
   "source": [
    "## Tugas Praktek"
   ]
  },
  {
   "cell_type": "code",
   "execution_count": 15,
   "id": "exceptional-switzerland",
   "metadata": {},
   "outputs": [
    {
     "name": "stdout",
     "output_type": "stream",
     "text": [
      "2.8277777777777775\n",
      "7.8999999999999995\n"
     ]
    }
   ],
   "source": [
    "# Data keuangan\n",
    "keuangan = {\n",
    "'pengeluaran': [2, 2.5, 2.25, 2.5, 3.2, 2.5, 3.5, 4, 3],\n",
    "'pemasukan': [7.8, 7.5, 9, 7.6, 7.2, 7.5, 7, 10, 7.5]\n",
    "}\n",
    "# Perhitungan rata-rata pemasukan dan rata-rata pengeluaran\n",
    "total_pengeluaran = 0\n",
    "total_pemasukan = 0\n",
    "for biaya in keuangan['pengeluaran']: \n",
    "    total_pengeluaran += biaya\n",
    "for biaya in keuangan['pemasukan']: \n",
    "    total_pemasukan += biaya\n",
    "rata_rata_pengeluaran = total_pengeluaran/len(keuangan['pengeluaran'])\n",
    "rata_rata_pemasukan = total_pemasukan/len(keuangan['pemasukan'])\n",
    "print(rata_rata_pengeluaran) \n",
    "print(rata_rata_pemasukan)"
   ]
  },
  {
   "cell_type": "code",
   "execution_count": null,
   "id": "convenient-heart",
   "metadata": {},
   "outputs": [],
   "source": []
  }
 ],
 "metadata": {
  "kernelspec": {
   "display_name": "Python 3",
   "language": "python",
   "name": "python3"
  },
  "language_info": {
   "codemirror_mode": {
    "name": "ipython",
    "version": 3
   },
   "file_extension": ".py",
   "mimetype": "text/x-python",
   "name": "python",
   "nbconvert_exporter": "python",
   "pygments_lexer": "ipython3",
   "version": "3.8.5"
  }
 },
 "nbformat": 4,
 "nbformat_minor": 5
}
