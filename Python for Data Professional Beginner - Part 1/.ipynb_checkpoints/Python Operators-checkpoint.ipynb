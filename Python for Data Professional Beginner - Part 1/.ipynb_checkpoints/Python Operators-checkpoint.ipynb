{
 "cells": [
  {
   "cell_type": "markdown",
   "id": "thermal-arbor",
   "metadata": {},
   "source": [
    "Nilai Prioritas Operator dalam Python – Part 1"
   ]
  },
  {
   "cell_type": "code",
   "execution_count": 1,
   "id": "associate-accreditation",
   "metadata": {},
   "outputs": [
    {
     "name": "stdout",
     "output_type": "stream",
     "text": [
      "Kode awal - harga_bayar= 115500.0\n",
      "Penyederhanaan kode - harga_bayar= 115500.0\n"
     ]
    }
   ],
   "source": [
    "total_harga = 150000\n",
    "potongan_harga = 0.3\n",
    "pajak = 0.1 # pajak dalam persen ~ 10%\n",
    "harga_bayar = 1 - 0.3 # baris pertama\n",
    "harga_bayar *= total_harga # baris kedua\n",
    "pajak_bayar = pajak * harga_bayar # baris ketiga\n",
    "harga_bayar += pajak_bayar # baris ke-4\n",
    "print(\"Kode awal - harga_bayar=\", harga_bayar)\n",
    "# Penyederhanaan baris kode dengan menerapkan prioritas operator\n",
    "total_harga = 150000\n",
    "potongan_harga = 0.3\n",
    "pajak = 0.1 # pajak dalam persen ~ 10%\n",
    "harga_bayar = (1 - 0.3) * total_harga #baris pertama\n",
    "harga_bayar += harga_bayar * pajak # baris kedua\n",
    "print(\"Penyederhanaan kode - harga_bayar=\", harga_bayar)"
   ]
  },
  {
   "cell_type": "markdown",
   "id": "informative-serial",
   "metadata": {},
   "source": [
    "Tugas Praktek"
   ]
  },
  {
   "cell_type": "code",
   "execution_count": 2,
   "id": "imposed-facial",
   "metadata": {},
   "outputs": [
    {
     "name": "stdout",
     "output_type": "stream",
     "text": [
      "365200.00000000006\n"
     ]
    }
   ],
   "source": [
    "sepatu = { \"nama\" : \"Sepatu Niko\", \"harga\": 150000, \"diskon\": 30000 }\n",
    "baju = { \"nama\" : \"Baju Unikloh\", \"harga\": 80000, \"diskon\": 8000 }\n",
    "celana = { \"nama\" : \"Celana Lepis\", \"harga\": 200000, \"diskon\": 60000 }\n",
    "harga_sepatu = sepatu[\"harga\"] - sepatu[\"diskon\"]\n",
    "harga_baju = baju[\"harga\"] - baju[\"diskon\"]\n",
    "harga_celana = celana[\"harga\"] - celana[\"diskon\"]\n",
    "total_harga = (harga_sepatu + harga_baju + harga_celana) * 1.1 \n",
    "print(total_harga)"
   ]
  },
  {
   "cell_type": "code",
   "execution_count": null,
   "id": "south-decision",
   "metadata": {},
   "outputs": [],
   "source": []
  }
 ],
 "metadata": {
  "kernelspec": {
   "display_name": "Python 3",
   "language": "python",
   "name": "python3"
  },
  "language_info": {
   "codemirror_mode": {
    "name": "ipython",
    "version": 3
   },
   "file_extension": ".py",
   "mimetype": "text/x-python",
   "name": "python",
   "nbconvert_exporter": "python",
   "pygments_lexer": "ipython3",
   "version": "3.8.5"
  }
 },
 "nbformat": 4,
 "nbformat_minor": 5
}
