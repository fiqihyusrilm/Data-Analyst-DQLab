{
 "cells": [
  {
   "cell_type": "markdown",
   "id": "naughty-bibliography",
   "metadata": {},
   "source": [
    "# Warming Up!"
   ]
  },
  {
   "cell_type": "code",
   "execution_count": 1,
   "id": "shared-principle",
   "metadata": {},
   "outputs": [
    {
     "name": "stdout",
     "output_type": "stream",
     "text": [
      "['cuci tangan', 'pakai masker', 'jaga jarak']\n"
     ]
    }
   ],
   "source": [
    "bersatulawancovid = ['cuci tangan', 'pakai masker', 'jaga jarak']\n",
    "print(bersatulawancovid)"
   ]
  },
  {
   "cell_type": "markdown",
   "id": "australian-gazette",
   "metadata": {},
   "source": [
    "# Are You Ready?"
   ]
  },
  {
   "cell_type": "code",
   "execution_count": 2,
   "id": "ambient-andrew",
   "metadata": {},
   "outputs": [
    {
     "data": {
      "text/plain": [
       "True"
      ]
     },
     "execution_count": 2,
     "metadata": {},
     "output_type": "execute_result"
    }
   ],
   "source": [
    "True"
   ]
  },
  {
   "cell_type": "markdown",
   "id": "reserved-kenya",
   "metadata": {},
   "source": [
    "# Mengakses API covid19.go.id"
   ]
  },
  {
   "cell_type": "code",
   "execution_count": 3,
   "id": "checked-portland",
   "metadata": {},
   "outputs": [],
   "source": [
    "import requests\n",
    "resp = requests.get('https://data.covid19.go.id/public/api/update.json')"
   ]
  },
  {
   "cell_type": "markdown",
   "id": "original-fancy",
   "metadata": {},
   "source": [
    "# Status Code"
   ]
  },
  {
   "cell_type": "raw",
   "id": "laughing-document",
   "metadata": {},
   "source": [
    "Ada beberapa jenis status code yang umumnya dijumpai, antara lain:\n",
    "\n",
    "200, Artinya permintaan sukses dipenuhi.\n",
    "404, Artinya berkas yang diminta tidak dapat ditemukan.\n",
    "500, Artinya akses permintaan ditolak.\n",
    "501, Artinya terjadi kesalahan pada server."
   ]
  },
  {
   "cell_type": "code",
   "execution_count": 4,
   "id": "meaning-annex",
   "metadata": {},
   "outputs": [
    {
     "name": "stdout",
     "output_type": "stream",
     "text": [
      "<Response [200]>\n"
     ]
    }
   ],
   "source": [
    "print (resp)"
   ]
  },
  {
   "cell_type": "markdown",
   "id": "cardiac-scene",
   "metadata": {},
   "source": [
    "# Headers API"
   ]
  },
  {
   "cell_type": "code",
   "execution_count": 5,
   "id": "small-accuracy",
   "metadata": {},
   "outputs": [
    {
     "name": "stdout",
     "output_type": "stream",
     "text": [
      "{'Server': 'nginx', 'Date': 'Thu, 15 Jul 2021 16:38:50 GMT', 'Content-Type': 'application/json', 'Transfer-Encoding': 'chunked', 'Connection': 'keep-alive', 'Vary': 'Accept-Encoding, Accept-Encoding', 'Last-Modified': 'Thu, 15 Jul 2021 16:37:26 GMT', 'ETag': 'W/\"60f06446-2f3e7\"', 'X-Content-Type-Options': 'nosniff, nosniff', 'X-XSS-Protection': '1; mode=block, 1; mode=block', 'Strict-Transport-Security': 'max-age=31536000; includeSubDomains; preload', 'Content-Encoding': 'gzip'}\n"
     ]
    }
   ],
   "source": [
    "print(resp.headers)"
   ]
  },
  {
   "cell_type": "markdown",
   "id": "functioning-cause",
   "metadata": {},
   "source": [
    "# Mengekstrak Isi Respon"
   ]
  },
  {
   "cell_type": "code",
   "execution_count": 6,
   "id": "timely-bunny",
   "metadata": {},
   "outputs": [],
   "source": [
    "cov_id_raw = resp.json()"
   ]
  },
  {
   "cell_type": "markdown",
   "id": "designing-yugoslavia",
   "metadata": {},
   "source": [
    "# Mengekstrak isi Respon - 2"
   ]
  },
  {
   "cell_type": "code",
   "execution_count": 7,
   "id": "caroline-hostel",
   "metadata": {},
   "outputs": [
    {
     "name": "stdout",
     "output_type": "stream",
     "text": [
      "Length of cov_id_raw : 2.\n",
      "Komponen cov_id_raw : dict_keys(['data', 'update']).\n"
     ]
    }
   ],
   "source": [
    "print('Length of cov_id_raw : %d.' %len(cov_id_raw))\n",
    "print('Komponen cov_id_raw : %s.' %cov_id_raw.keys())\n",
    "cov_id_update = cov_id_raw['update']"
   ]
  },
  {
   "cell_type": "markdown",
   "id": "driving-genre",
   "metadata": {},
   "source": [
    "# Analisa Data"
   ]
  },
  {
   "cell_type": "code",
   "execution_count": 8,
   "id": "regular-review",
   "metadata": {},
   "outputs": [
    {
     "data": {
      "text/plain": [
       "{'jumlah_positif': 56757,\n",
       " 'jumlah_meninggal': 982,\n",
       " 'jumlah_sembuh': 19049,\n",
       " 'jumlah_dirawat': 36726,\n",
       " 'tanggal': '2021-07-15',\n",
       " 'created': '2021-07-15 16:11:28'}"
      ]
     },
     "execution_count": 8,
     "metadata": {},
     "output_type": "execute_result"
    }
   ],
   "source": [
    "cov_id_update['penambahan']"
   ]
  },
  {
   "cell_type": "code",
   "execution_count": 9,
   "id": "clear-member",
   "metadata": {},
   "outputs": [
    {
     "name": "stdout",
     "output_type": "stream",
     "text": [
      "Tanggal pembaharuan data penambahan kasus : 2021-07-15\n",
      "Jumlah penambahan kasus sembuh : 19049\n",
      "Jumlah penambahan kasus meninggal : 982\n",
      "Jumlah total kasus positif hingga saat ini : 2726803\n",
      "Jumlah total kasus meninggal hingga saat ini: 70192\n"
     ]
    }
   ],
   "source": [
    "print('Tanggal pembaharuan data penambahan kasus :', cov_id_update['penambahan']['tanggal'])\n",
    "print('Jumlah penambahan kasus sembuh :', cov_id_update['penambahan']['jumlah_sembuh'])\n",
    "print('Jumlah penambahan kasus meninggal :', cov_id_update['penambahan']['jumlah_meninggal'])\n",
    "print('Jumlah total kasus positif hingga saat ini :', cov_id_update['total']['jumlah_positif'])\n",
    "print('Jumlah total kasus meninggal hingga saat ini:', cov_id_update['total']['jumlah_meninggal'])"
   ]
  },
  {
   "cell_type": "markdown",
   "id": "brutal-formula",
   "metadata": {},
   "source": [
    "# Apa Kabar Jawa Barat?"
   ]
  },
  {
   "cell_type": "code",
   "execution_count": 10,
   "id": "active-probability",
   "metadata": {},
   "outputs": [],
   "source": [
    "import requests\n",
    "resp_jabar = requests.get('https://data.covid19.go.id/public/api/prov_detail_JAWA_BARAT.json')\n",
    "cov_jabar_raw = resp_jabar.json()"
   ]
  },
  {
   "cell_type": "markdown",
   "id": "fuzzy-bottle",
   "metadata": {},
   "source": [
    "# Memahami Kasus COVID-19 di Jawa Barat"
   ]
  },
  {
   "cell_type": "code",
   "execution_count": 11,
   "id": "threaded-happiness",
   "metadata": {},
   "outputs": [
    {
     "name": "stdout",
     "output_type": "stream",
     "text": [
      "Nama-nama elemen utama:\n",
      " dict_keys(['last_date', 'provinsi', 'kasus_total', 'kasus_tanpa_tgl', 'kasus_dengan_tgl', 'meninggal_persen', 'meninggal_tanpa_tgl', 'meninggal_dengan_tgl', 'sembuh_persen', 'sembuh_tanpa_tgl', 'sembuh_dengan_tgl', 'list_perkembangan', 'data'])\n",
      "\n",
      "Jumlah total kasus COVID-19 di Jawa Barat                 : 467144\n",
      "Persentase kematian akibat COVID-19 di Jawa Barat         : 1.447305.2%\n",
      "Persentase tingkat kesembuhan dari COVID-19 di Jawa Barat : 78.221062.2%\n"
     ]
    }
   ],
   "source": [
    "print('Nama-nama elemen utama:\\n', cov_jabar_raw.keys())\n",
    "print('\\nJumlah total kasus COVID-19 di Jawa Barat                 : %d' %cov_jabar_raw['kasus_total'])\n",
    "print('Persentase kematian akibat COVID-19 di Jawa Barat         : %f.2%%' %cov_jabar_raw['meninggal_persen'])\n",
    "print('Persentase tingkat kesembuhan dari COVID-19 di Jawa Barat : %f.2%%' %cov_jabar_raw['sembuh_persen'])"
   ]
  },
  {
   "cell_type": "markdown",
   "id": "organic-rotation",
   "metadata": {},
   "source": [
    "# Memperoleh Informasi yang Lebih Lengkap"
   ]
  },
  {
   "cell_type": "code",
   "execution_count": 12,
   "id": "simplified-acquisition",
   "metadata": {},
   "outputs": [
    {
     "name": "stdout",
     "output_type": "stream",
     "text": [
      "<class 'pandas.core.frame.DataFrame'>\n",
      "RangeIndex: 499 entries, 0 to 498\n",
      "Data columns (total 9 columns):\n",
      " #   Column                        Non-Null Count  Dtype\n",
      "---  ------                        --------------  -----\n",
      " 0   tanggal                       499 non-null    int64\n",
      " 1   KASUS                         499 non-null    int64\n",
      " 2   MENINGGAL                     499 non-null    int64\n",
      " 3   SEMBUH                        499 non-null    int64\n",
      " 4   DIRAWAT_OR_ISOLASI            499 non-null    int64\n",
      " 5   AKUMULASI_KASUS               499 non-null    int64\n",
      " 6   AKUMULASI_SEMBUH              499 non-null    int64\n",
      " 7   AKUMULASI_MENINGGAL           499 non-null    int64\n",
      " 8   AKUMULASI_DIRAWAT_OR_ISOLASI  499 non-null    int64\n",
      "dtypes: int64(9)\n",
      "memory usage: 35.2 KB\n",
      "Info cov_jabar:\n",
      " None\n",
      "\n",
      "Lima data teratas cov_jabar:\n",
      "          tanggal  KASUS  MENINGGAL  SEMBUH  DIRAWAT_OR_ISOLASI  \\\n",
      "0  1583107200000      3          0       0                   3   \n",
      "1  1583193600000      1          1       0                   0   \n",
      "2  1583280000000      1          0       0                   1   \n",
      "3  1583366400000      1          0       0                   1   \n",
      "4  1583452800000      1          0       0                   1   \n",
      "\n",
      "   AKUMULASI_KASUS  AKUMULASI_SEMBUH  AKUMULASI_MENINGGAL  \\\n",
      "0                3                 0                    0   \n",
      "1                4                 0                    1   \n",
      "2                5                 0                    1   \n",
      "3                6                 0                    1   \n",
      "4                7                 0                    1   \n",
      "\n",
      "   AKUMULASI_DIRAWAT_OR_ISOLASI  \n",
      "0                             3  \n",
      "1                             3  \n",
      "2                             4  \n",
      "3                             5  \n",
      "4                             6  \n"
     ]
    }
   ],
   "source": [
    "import numpy as np\n",
    "import pandas as pd\n",
    "cov_jabar = pd.DataFrame(cov_jabar_raw['list_perkembangan'])\n",
    "print('Info cov_jabar:\\n', cov_jabar.info())\n",
    "print('\\nLima data teratas cov_jabar:\\n', cov_jabar.head())"
   ]
  },
  {
   "cell_type": "code",
   "execution_count": 13,
   "id": "correct-tokyo",
   "metadata": {},
   "outputs": [
    {
     "data": {
      "text/html": [
       "<div>\n",
       "<style scoped>\n",
       "    .dataframe tbody tr th:only-of-type {\n",
       "        vertical-align: middle;\n",
       "    }\n",
       "\n",
       "    .dataframe tbody tr th {\n",
       "        vertical-align: top;\n",
       "    }\n",
       "\n",
       "    .dataframe thead th {\n",
       "        text-align: right;\n",
       "    }\n",
       "</style>\n",
       "<table border=\"1\" class=\"dataframe\">\n",
       "  <thead>\n",
       "    <tr style=\"text-align: right;\">\n",
       "      <th></th>\n",
       "      <th>tanggal</th>\n",
       "      <th>KASUS</th>\n",
       "      <th>MENINGGAL</th>\n",
       "      <th>SEMBUH</th>\n",
       "      <th>DIRAWAT_OR_ISOLASI</th>\n",
       "      <th>AKUMULASI_KASUS</th>\n",
       "      <th>AKUMULASI_SEMBUH</th>\n",
       "      <th>AKUMULASI_MENINGGAL</th>\n",
       "      <th>AKUMULASI_DIRAWAT_OR_ISOLASI</th>\n",
       "    </tr>\n",
       "  </thead>\n",
       "  <tbody>\n",
       "    <tr>\n",
       "      <th>0</th>\n",
       "      <td>1583107200000</td>\n",
       "      <td>3</td>\n",
       "      <td>0</td>\n",
       "      <td>0</td>\n",
       "      <td>3</td>\n",
       "      <td>3</td>\n",
       "      <td>0</td>\n",
       "      <td>0</td>\n",
       "      <td>3</td>\n",
       "    </tr>\n",
       "    <tr>\n",
       "      <th>1</th>\n",
       "      <td>1583193600000</td>\n",
       "      <td>1</td>\n",
       "      <td>1</td>\n",
       "      <td>0</td>\n",
       "      <td>0</td>\n",
       "      <td>4</td>\n",
       "      <td>0</td>\n",
       "      <td>1</td>\n",
       "      <td>3</td>\n",
       "    </tr>\n",
       "    <tr>\n",
       "      <th>2</th>\n",
       "      <td>1583280000000</td>\n",
       "      <td>1</td>\n",
       "      <td>0</td>\n",
       "      <td>0</td>\n",
       "      <td>1</td>\n",
       "      <td>5</td>\n",
       "      <td>0</td>\n",
       "      <td>1</td>\n",
       "      <td>4</td>\n",
       "    </tr>\n",
       "    <tr>\n",
       "      <th>3</th>\n",
       "      <td>1583366400000</td>\n",
       "      <td>1</td>\n",
       "      <td>0</td>\n",
       "      <td>0</td>\n",
       "      <td>1</td>\n",
       "      <td>6</td>\n",
       "      <td>0</td>\n",
       "      <td>1</td>\n",
       "      <td>5</td>\n",
       "    </tr>\n",
       "    <tr>\n",
       "      <th>4</th>\n",
       "      <td>1583452800000</td>\n",
       "      <td>1</td>\n",
       "      <td>0</td>\n",
       "      <td>0</td>\n",
       "      <td>1</td>\n",
       "      <td>7</td>\n",
       "      <td>0</td>\n",
       "      <td>1</td>\n",
       "      <td>6</td>\n",
       "    </tr>\n",
       "  </tbody>\n",
       "</table>\n",
       "</div>"
      ],
      "text/plain": [
       "         tanggal  KASUS  MENINGGAL  SEMBUH  DIRAWAT_OR_ISOLASI  \\\n",
       "0  1583107200000      3          0       0                   3   \n",
       "1  1583193600000      1          1       0                   0   \n",
       "2  1583280000000      1          0       0                   1   \n",
       "3  1583366400000      1          0       0                   1   \n",
       "4  1583452800000      1          0       0                   1   \n",
       "\n",
       "   AKUMULASI_KASUS  AKUMULASI_SEMBUH  AKUMULASI_MENINGGAL  \\\n",
       "0                3                 0                    0   \n",
       "1                4                 0                    1   \n",
       "2                5                 0                    1   \n",
       "3                6                 0                    1   \n",
       "4                7                 0                    1   \n",
       "\n",
       "   AKUMULASI_DIRAWAT_OR_ISOLASI  \n",
       "0                             3  \n",
       "1                             3  \n",
       "2                             4  \n",
       "3                             5  \n",
       "4                             6  "
      ]
     },
     "execution_count": 13,
     "metadata": {},
     "output_type": "execute_result"
    }
   ],
   "source": [
    "cov_jabar.head()"
   ]
  },
  {
   "cell_type": "markdown",
   "id": "operational-memorial",
   "metadata": {},
   "source": [
    "# Menjinakkan Data"
   ]
  },
  {
   "cell_type": "code",
   "execution_count": 14,
   "id": "electrical-intranet",
   "metadata": {},
   "outputs": [
    {
     "name": "stdout",
     "output_type": "stream",
     "text": [
      "Lima data teratas:\n",
      "      tanggal  kasus_baru  meninggal  sembuh\n",
      "0 2020-03-02           3          0       0\n",
      "1 2020-03-03           1          1       0\n",
      "2 2020-03-04           1          0       0\n",
      "3 2020-03-05           1          0       0\n",
      "4 2020-03-06           1          0       0\n"
     ]
    }
   ],
   "source": [
    "cov_jabar_tidy = (cov_jabar.drop(columns=[item for item in cov_jabar.columns\n",
    "if item.startswith('AKUMULASI')\n",
    "or item.startswith('DIRAWAT')])\n",
    ".rename(columns=str.lower)\n",
    ".rename(columns={'kasus': 'kasus_baru'})\n",
    ")\n",
    "cov_jabar_tidy['tanggal'] = pd.to_datetime(cov_jabar_tidy['tanggal']*1e6, unit='ns')\n",
    "print('Lima data teratas:\\n', cov_jabar_tidy.head())"
   ]
  },
  {
   "cell_type": "markdown",
   "id": "municipal-blame",
   "metadata": {},
   "source": [
    "# Menunjukkan Melalui Gambar"
   ]
  },
  {
   "cell_type": "code",
   "execution_count": 15,
   "id": "needed-livestock",
   "metadata": {},
   "outputs": [],
   "source": [
    "import matplotlib.pyplot as plt"
   ]
  },
  {
   "cell_type": "markdown",
   "id": "comprehensive-lightweight",
   "metadata": {},
   "source": [
    "# Menunjukkan Melalui Gambar - 2"
   ]
  },
  {
   "cell_type": "code",
   "execution_count": 16,
   "id": "efficient-hamburg",
   "metadata": {},
   "outputs": [
    {
     "data": {
      "text/plain": [
       "<Figure size 432x288 with 0 Axes>"
      ]
     },
     "metadata": {},
     "output_type": "display_data"
    },
    {
     "data": {
      "image/png": "[encoded data removed]",
      "text/plain": [
       "<Figure size 720x360 with 1 Axes>"
      ]
     },
     "metadata": {
      "needs_background": "light"
     },
     "output_type": "display_data"
    }
   ],
   "source": [
    "import matplotlib.pyplot as plt\n",
    "\n",
    "plt.clf()\n",
    "fig, ax = plt.subplots(figsize=(10,5))\n",
    "ax.bar(data=cov_jabar_tidy, x='tanggal', height='kasus_baru')\n",
    "plt.show()"
   ]
  },
  {
   "cell_type": "markdown",
   "id": "verified-hypothesis",
   "metadata": {},
   "source": [
    "# Informasi pada Grafik"
   ]
  },
  {
   "cell_type": "code",
   "execution_count": 17,
   "id": "editorial-newcastle",
   "metadata": {},
   "outputs": [
    {
     "name": "stderr",
     "output_type": "stream",
     "text": [
      "<ipython-input-17-341b5df47d84>:15: UserWarning: FixedFormatter should only be used together with FixedLocator\n",
      "  ax.set_xticklabels(ax.get_xticks(), rotation=90)\n"
     ]
    },
    {
     "data": {
      "text/plain": [
       "<Figure size 432x288 with 0 Axes>"
      ]
     },
     "metadata": {},
     "output_type": "display_data"
    },
    {
     "data": {
      "image/png": "[encoded data removed]",
      "text/plain": [
       "<Figure size 720x360 with 1 Axes>"
      ]
     },
     "metadata": {
      "needs_background": "light"
     },
     "output_type": "display_data"
    }
   ],
   "source": [
    "import matplotlib.pyplot as plt\n",
    "import matplotlib.dates as mdates\n",
    "\n",
    "plt.clf()\n",
    "fig, ax = plt.subplots(figsize=(10,5))\n",
    "ax.bar(data=cov_jabar_tidy, x='tanggal', height='kasus_baru', color='salmon')\n",
    "fig.suptitle('Kasus Harian Positif COVID-19 di Jawa Barat',\n",
    "             y=1.00, fontsize=16, fontweight='bold', ha='center')\n",
    "ax.set_title('Terjadi pelonjakan kasus di awal bulan Juli akibat klaster Secapa AD Bandung',\n",
    "             fontsize=10)\n",
    "ax.set_xlabel('')\n",
    "ax.set_ylabel('Jumlah kasus')\n",
    "ax.text(1, -0.3, 'Sumber data: covid.19.go.id', color='blue',\n",
    "        ha='right', transform=ax.transAxes)\n",
    "ax.set_xticklabels(ax.get_xticks(), rotation=90)\n",
    "\n",
    "ax.xaxis.set_major_locator(mdates.MonthLocator())\n",
    "ax.xaxis.set_major_formatter(mdates.DateFormatter('%b %Y'))\n",
    "\n",
    "plt.grid(axis='y')\n",
    "plt.tight_layout()\n",
    "plt.show()"
   ]
  },
  {
   "cell_type": "markdown",
   "id": "supreme-meeting",
   "metadata": {},
   "source": [
    "# Grafik untuk Kasus Sembuh"
   ]
  },
  {
   "cell_type": "code",
   "execution_count": 18,
   "id": "cultural-booking",
   "metadata": {},
   "outputs": [
    {
     "name": "stderr",
     "output_type": "stream",
     "text": [
      "<ipython-input-18-2243fee396e6>:13: UserWarning: FixedFormatter should only be used together with FixedLocator\n",
      "  ax.set_xticklabels(ax.get_xticks(), rotation=90)\n"
     ]
    },
    {
     "data": {
      "text/plain": [
       "<Figure size 432x288 with 0 Axes>"
      ]
     },
     "metadata": {},
     "output_type": "display_data"
    },
    {
     "data": {
      "image/png": "[encoded data removed]",
      "text/plain": [
       "<Figure size 720x360 with 1 Axes>"
      ]
     },
     "metadata": {
      "needs_background": "light"
     },
     "output_type": "display_data"
    }
   ],
   "source": [
    "import matplotlib.pyplot as plt\n",
    "import matplotlib.dates as mdates\n",
    "\n",
    "plt.clf()\n",
    "fig, ax = plt.subplots(figsize=(10,5))\n",
    "ax.bar(data=cov_jabar_tidy, x='tanggal', height='sembuh', color='olivedrab')\n",
    "ax.set_title('Kasus Harian Sembuh Dari COVID-19 di Jawa Barat',\n",
    "             fontsize=22)\n",
    "ax.set_xlabel('')\n",
    "ax.set_ylabel('Jumlah kasus')\n",
    "ax.text(1, -0.3, 'Sumber data: covid.19.go.id', color='blue',\n",
    "        ha='right', transform=ax.transAxes)\n",
    "ax.set_xticklabels(ax.get_xticks(), rotation=90)\n",
    "\n",
    "ax.xaxis.set_major_locator(mdates.MonthLocator())\n",
    "ax.xaxis.set_major_formatter(mdates.DateFormatter('%b %Y'))\n",
    "\n",
    "plt.grid(axis='y')\n",
    "plt.tight_layout()\n",
    "plt.show()"
   ]
  },
  {
   "cell_type": "markdown",
   "id": "dressed-consciousness",
   "metadata": {},
   "source": [
    "# Grafik untuk Kasus Meninggal"
   ]
  },
  {
   "cell_type": "code",
   "execution_count": 19,
   "id": "gross-spring",
   "metadata": {},
   "outputs": [
    {
     "name": "stderr",
     "output_type": "stream",
     "text": [
      "<ipython-input-19-11dd8740a981>:13: UserWarning: FixedFormatter should only be used together with FixedLocator\n",
      "  ax.set_xticklabels(ax.get_xticks(), rotation=90)\n"
     ]
    },
    {
     "data": {
      "text/plain": [
       "<Figure size 432x288 with 0 Axes>"
      ]
     },
     "metadata": {},
     "output_type": "display_data"
    },
    {
     "data": {
      "image/png": "[encoded data removed]",
      "text/plain": [
       "<Figure size 720x360 with 1 Axes>"
      ]
     },
     "metadata": {
      "needs_background": "light"
     },
     "output_type": "display_data"
    }
   ],
   "source": [
    "import matplotlib.pyplot as plt\n",
    "import matplotlib.dates as mdates\n",
    "\n",
    "plt.clf()\n",
    "fig, ax = plt.subplots(figsize=(10,5))\n",
    "ax.bar(data=cov_jabar_tidy, x='tanggal', height='meninggal', color='slategrey')\n",
    "ax.set_title('Kasus Harian Meninggal Dari COVID-19 di Jawa Barat',\n",
    "             fontsize=22)\n",
    "ax.set_xlabel('')\n",
    "ax.set_ylabel('Jumlah kasus')\n",
    "ax.text(1, -0.3, 'Sumber data: covid.19.go.id', color='blue',\n",
    "        ha='right', transform=ax.transAxes)\n",
    "ax.set_xticklabels(ax.get_xticks(), rotation=90)\n",
    "\n",
    "ax.xaxis.set_major_locator(mdates.MonthLocator())\n",
    "ax.xaxis.set_major_formatter(mdates.DateFormatter('%b %Y'))\n",
    "\n",
    "plt.grid(axis='y')\n",
    "plt.tight_layout()\n",
    "plt.show()"
   ]
  },
  {
   "cell_type": "markdown",
   "id": "sorted-patrick",
   "metadata": {},
   "source": [
    "# Apakah Pekan ini Lebih Baik?"
   ]
  },
  {
   "cell_type": "code",
   "execution_count": 20,
   "id": "pursuant-possibility",
   "metadata": {},
   "outputs": [
    {
     "name": "stdout",
     "output_type": "stream",
     "text": [
      "Info cov_jabar_pekanan:\n",
      "<class 'pandas.core.frame.DataFrame'>\n",
      "RangeIndex: 72 entries, 0 to 71\n",
      "Data columns (total 3 columns):\n",
      " #   Column    Non-Null Count  Dtype\n",
      "---  ------    --------------  -----\n",
      " 0   tahun     72 non-null     int64\n",
      " 1   pekan_ke  72 non-null     int64\n",
      " 2   jumlah    72 non-null     int64\n",
      "dtypes: int64(3)\n",
      "memory usage: 1.8 KB\n",
      "None\n",
      "\n",
      "Lima data teratas cov_jabar_pekanan:\n",
      "    tahun  pekan_ke  jumlah\n",
      "0   2020        10       7\n",
      "1   2020        11       5\n",
      "2   2020        12      52\n",
      "3   2020        13     104\n",
      "4   2020        14     131\n"
     ]
    }
   ],
   "source": [
    "cov_jabar_pekanan = (cov_jabar_tidy.set_index('tanggal')['kasus_baru']\n",
    "\t\t\t\t\t  .resample('W')\n",
    "\t\t\t\t\t  .sum()\n",
    "\t\t\t\t\t  .reset_index()\n",
    "\t\t\t\t\t  .rename(columns={'kasus_baru': 'jumlah'})\n",
    ")\n",
    "cov_jabar_pekanan['tahun'] = cov_jabar_pekanan['tanggal'].apply(lambda x: x.year)\n",
    "cov_jabar_pekanan['pekan_ke'] = cov_jabar_pekanan['tanggal'].apply(lambda x: x.weekofyear)\n",
    "cov_jabar_pekanan = cov_jabar_pekanan[['tahun', 'pekan_ke', 'jumlah']]\n",
    "\n",
    "print('Info cov_jabar_pekanan:')\n",
    "print(cov_jabar_pekanan.info())\n",
    "print('\\nLima data teratas cov_jabar_pekanan:\\n', cov_jabar_pekanan.head())"
   ]
  },
  {
   "cell_type": "markdown",
   "id": "offensive-railway",
   "metadata": {},
   "source": [
    "# Menjawab Pertanyaan"
   ]
  },
  {
   "cell_type": "code",
   "execution_count": 30,
   "id": "apart-scottish",
   "metadata": {},
   "outputs": [
    {
     "name": "stdout",
     "output_type": "stream",
     "text": [
      "Sepuluh data teratas:\n",
      "    tahun  pekan_ke  jumlah  jumlah_pekanlalu  lebih_baik\n",
      "0   2020        10       7                 0       False\n",
      "1   2020        11       5                 7        True\n",
      "2   2020        12      52                 5       False\n",
      "3   2020        13     104                52       False\n",
      "4   2020        14     131               104       False\n",
      "5   2020        15     235               131       False\n",
      "6   2020        16     277               235       False\n",
      "7   2020        17     216               277        True\n",
      "8   2020        18     156               216        True\n",
      "9   2020        19     367               156       False\n"
     ]
    }
   ],
   "source": [
    "cov_jabar_pekanan['jumlah_pekanlalu'] = cov_jabar_pekanan['jumlah'].shift().replace(np.nan, 0).astype(np.int)\n",
    "cov_jabar_pekanan['lebih_baik'] = cov_jabar_pekanan['jumlah'] < cov_jabar_pekanan['jumlah_pekanlalu']\n",
    "\n",
    "print('Sepuluh data teratas:\\n', cov_jabar_pekanan.head(10))"
   ]
  },
  {
   "cell_type": "markdown",
   "id": "future-lawrence",
   "metadata": {},
   "source": [
    "# Membuat Bar Chart"
   ]
  },
  {
   "cell_type": "code",
   "execution_count": 34,
   "id": "advisory-collector",
   "metadata": {},
   "outputs": [
    {
     "data": {
      "text/plain": [
       "<Figure size 432x288 with 0 Axes>"
      ]
     },
     "metadata": {},
     "output_type": "display_data"
    },
    {
     "data": {
      "image/png": "[encoded data removed]",
      "text/plain": [
       "<Figure size 720x432 with 2 Axes>"
      ]
     },
     "metadata": {
      "needs_background": "light"
     },
     "output_type": "display_data"
    }
   ],
   "source": [
    "import matplotlib.pyplot as plt\n",
    "\n",
    "plt.clf()\n",
    "jml_tahun_terjadi_covid19 = cov_jabar_pekanan['tahun'].nunique()\n",
    "tahun_terjadi_covid19 = cov_jabar_pekanan['tahun'].unique()\n",
    "fig, axes = plt.subplots(nrows=jml_tahun_terjadi_covid19,\n",
    "                        figsize=(10,3*jml_tahun_terjadi_covid19))\n",
    "\n",
    "fig.suptitle('Kasus Pekanan Positif COVID-19 di Jawa Barat',\n",
    "            y=1.00, fontsize=16, fontweight='bold', ha='center')\n",
    "for i, ax in enumerate(axes):\n",
    "    ax.bar(data=cov_jabar_pekanan.loc[cov_jabar_pekanan['tahun']==tahun_terjadi_covid19[i]],\n",
    "           x='pekan_ke', height='jumlah',\n",
    "           color=['mediumseagreen' if x is True else 'salmon'\n",
    "                  for x in cov_jabar_pekanan['lebih_baik']])\n",
    "    if i == 0:\n",
    "        ax.set_title('Kolom hijau menunjukkan penambahan kasus baru lebih sedikit dibandingkan satu pekan sebelumnya',\n",
    "                    fontsize=10)\n",
    "    elif i == jml_tahun_terjadi_covid19-1:\n",
    "        ax.text(1, -0.2, 'Sumber data: covid.19.go.id', color='blue',\n",
    "\t\t\t\tha='right', transform=ax.transAxes)\n",
    "\n",
    "        ax.set_xlim([0, 52.5])\n",
    "        ax.set_ylim([0, max(cov_jabar_pekanan['jumlah'])])\n",
    "        ax.set_xlabel('')\n",
    "        ax.set_ylabel('Jumlah kasus %d'%(tahun_terjadi_covid19[i],))\n",
    "        ax.grid(axis='y')\n",
    "            \n",
    "plt.tight_layout()\n",
    "plt.show()"
   ]
  },
  {
   "cell_type": "code",
   "execution_count": null,
   "id": "contained-liquid",
   "metadata": {},
   "outputs": [],
   "source": []
  }
 ],
 "metadata": {
  "kernelspec": {
   "display_name": "Python 3",
   "language": "python",
   "name": "python3"
  },
  "language_info": {
   "codemirror_mode": {
    "name": "ipython",
    "version": 3
   },
   "file_extension": ".py",
   "mimetype": "text/x-python",
   "name": "python",
   "nbconvert_exporter": "python",
   "pygments_lexer": "ipython3",
   "version": "3.8.5"
  }
 },
 "nbformat": 4,
 "nbformat_minor": 5
}
