{
 "cells": [
  {
   "cell_type": "markdown",
   "id": "complex-balance",
   "metadata": {},
   "source": [
    "## Tugas Praktek"
   ]
  },
  {
   "cell_type": "code",
   "execution_count": 2,
   "id": "overall-bridal",
   "metadata": {},
   "outputs": [],
   "source": [
    "import pandas as pd\n",
    "order_df = pd.read_csv('https://dqlab-dataset.s3-ap-southeast-1.amazonaws.com/order.csv')"
   ]
  },
  {
   "cell_type": "code",
   "execution_count": 3,
   "id": "elegant-commission",
   "metadata": {},
   "outputs": [
    {
     "name": "stdout",
     "output_type": "stream",
     "text": [
      "(49999, 12)\n"
     ]
    }
   ],
   "source": [
    "import pandas as pd\n",
    "order_df = pd.read_csv(\"https://dqlab-dataset.s3-ap-southeast-1.amazonaws.com/order.csv\")\n",
    "print(order_df.shape)"
   ]
  },
  {
   "cell_type": "code",
   "execution_count": 4,
   "id": "controlling-default",
   "metadata": {},
   "outputs": [
    {
     "name": "stdout",
     "output_type": "stream",
     "text": [
      "                           order_id  quantity  \\\n",
      "0  2e7a8482f6fb09756ca50c10d7bfc047         2   \n",
      "1  2e7a8482f6fb09756ca50c10d7bfc047         1   \n",
      "2  e5fa5a7210941f7d56d0208e4e071d35         1   \n",
      "3  3b697a20d9e427646d92567910af6d57         1   \n",
      "4  71303d7e93b399f5bcd537d124c0bcfa         1   \n",
      "5  be5bc2f0da14d8071e2d45451ad119d9         1   \n",
      "6  0a0837a5eee9e7a9ce2b1fa831944d27         1   \n",
      "7  1ff217aa612f6cd7c4255c9bfe931c8b         1   \n",
      "8  22613579f7d11cc59c4347526fc3c79e         1   \n",
      "9  356b492aba2d1a7da886e54e0b6212b7         1   \n",
      "\n",
      "                         product_id    price  \\\n",
      "0  f293394c72c9b5fafd7023301fc21fc2  1489000   \n",
      "1  c1488892604e4ba5cff5b4eb4d595400  1756000   \n",
      "2  f3c2d01a84c947b078e32bbef0718962  1707000   \n",
      "3  3ae08df6bcbfe23586dd431c40bddbb7  3071000   \n",
      "4  d2998d7ced12f83f9b832f33cf6507b6  3833000   \n",
      "5  fd7fd78fd3cbc1b0a6370a7909c0a629  1480000   \n",
      "6  583916a5dae918f5e89baec139141c54  4489000   \n",
      "7  33430c5c1027d812b5c62f778e5ee7f7   822000   \n",
      "8  3ff81cd0e0861e991bb0106c03c113ca  3967000   \n",
      "9  eba7488e1c67729f045ab43fac426f2e  4165000   \n",
      "\n",
      "                          seller_id  freight_value  \\\n",
      "0  1554a68530182680ad5c8b042c3ab563          28000   \n",
      "1  1554a68530182680ad5c8b042c3ab563          45000   \n",
      "2  a425f92c199eb576938df686728acd20         174000   \n",
      "3  522620dcb18a6b31cd7bdf73665113a9         154000   \n",
      "4  25e6ffe976bd75618accfe16cefcbd0d         147000   \n",
      "5  f09b760d23495ac9a7e00d29b769007c         152000   \n",
      "6  3481aa57cd91f9f9d3fa1fa12d9a3bf7          16000   \n",
      "7  4b1eaadf791bdbbad8c4a35b65236d52          58000   \n",
      "8  86bb7c4b535e49a541baf3266b1c95b1          95000   \n",
      "9  620c87c171fb2a6dd6e8bb4dec959fc6          98000   \n",
      "\n",
      "                        customer_id order_status purchase_date  \\\n",
      "0  08c5351a6aca1c1589a38f244edeee9d      shipped    2016-09-05   \n",
      "1  08c5351a6aca1c1589a38f244edeee9d      shipped    2016-09-05   \n",
      "2  683c54fc24d40ee9f8a6fc179fd9856c     canceled    2016-09-05   \n",
      "3  355077684019f7f60a031656bd7262b8    delivered    2016-10-03   \n",
      "4  b106b360fe2ef8849fbbd056f777b4d5     canceled    2016-10-03   \n",
      "5  7ec40b22510fdbea1b08921dd39e63d8    delivered    2016-10-03   \n",
      "6  4f3f778022aefa22b9f9e52d2c47edf3    delivered    2016-10-04   \n",
      "7  b3a9bf200375f53cc5c6991919c356fd    delivered    2016-10-04   \n",
      "8  53cc5d344077104b59d4f6836a90eb0b    delivered    2016-10-04   \n",
      "9  68c74d748a55f9d29e6698f4b01a0df7    delivered    2016-10-04   \n",
      "\n",
      "      payment_type product_category_name  product_weight_gram  \n",
      "0  virtual account               fashion               1800.0  \n",
      "1  virtual account            automotive               1400.0  \n",
      "2         e-wallet                  toys                700.0  \n",
      "3         e-wallet             utilities                300.0  \n",
      "4         e-wallet               fashion                500.0  \n",
      "5         e-wallet           electronics                400.0  \n",
      "6       debit card                  toys               3100.0  \n",
      "7      credit card            automotive                200.0  \n",
      "8       debit card                beauty                600.0  \n",
      "9      credit card            automotive                610.0  \n"
     ]
    }
   ],
   "source": [
    "import pandas as pd\n",
    "order_df = pd.read_csv(\"https://dqlab-dataset.s3-ap-southeast-1.amazonaws.com/order.csv\")\n",
    "print(order_df.head(10))"
   ]
  },
  {
   "cell_type": "markdown",
   "id": "educated-marsh",
   "metadata": {},
   "source": [
    "Jika ingin mendapatkan summary statistik dari kolom yang tidak bernilai angka, maka aku dapat menambahkan command include=[\"object\"] pada syntax describe()."
   ]
  },
  {
   "cell_type": "markdown",
   "id": "vital-survivor",
   "metadata": {},
   "source": [
    "Function describe() dengan include=\"all\" akan memberikan summary statistic dari semua kolom. Contoh penggunaannya:"
   ]
  },
  {
   "cell_type": "markdown",
   "id": "handled-ethics",
   "metadata": {},
   "source": [
    "elanjutnya, untuk mencari rataan dari suatu data dari dataframe. Aku dapat menggunakan syntax mean, median, dan mode dari Pandas."
   ]
  },
  {
   "cell_type": "markdown",
   "id": "phantom-cleveland",
   "metadata": {},
   "source": [
    "## Tugas Praktek"
   ]
  },
  {
   "cell_type": "code",
   "execution_count": 6,
   "id": "aware-culture",
   "metadata": {},
   "outputs": [
    {
     "name": "stdout",
     "output_type": "stream",
     "text": [
      "           quantity         price  freight_value  product_weight_gram\n",
      "count  49999.000000  4.999900e+04   49999.000000         49980.000000\n",
      "mean       1.197484  2.607784e+06  104521.390428          2201.830892\n",
      "std        0.722262  1.388312e+06   55179.844962          3929.896875\n",
      "min        1.000000  2.000000e+05    9000.000000            50.000000\n",
      "25%        1.000000  1.410500e+06   57000.000000           300.000000\n",
      "50%        1.000000  2.610000e+06  104000.000000           800.000000\n",
      "75%        1.000000  3.810000e+06  152000.000000          1850.000000\n",
      "max       21.000000  5.000000e+06  200000.000000         40425.000000\n",
      "2610000.0\n"
     ]
    }
   ],
   "source": [
    "import pandas as pd\n",
    "order_df = pd.read_csv(\"https://dqlab-dataset.s3-ap-southeast-1.amazonaws.com/order.csv\")\n",
    "# Quick summary  dari segi kuantitas, harga, freight value, dan weight\n",
    "print(order_df.describe())\n",
    "# Median median dari total pembelian konsumen per transaksi kolom price\n",
    "print(order_df.loc[:, \"price\"].median())"
   ]
  },
  {
   "cell_type": "code",
   "execution_count": null,
   "id": "removed-style",
   "metadata": {},
   "outputs": [],
   "source": []
  }
 ],
 "metadata": {
  "kernelspec": {
   "display_name": "Python 3",
   "language": "python",
   "name": "python3"
  }
 },
 "nbformat": 4,
 "nbformat_minor": 5
}
