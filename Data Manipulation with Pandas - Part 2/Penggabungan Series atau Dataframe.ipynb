{
 "cells": [
  {
   "cell_type": "markdown",
   "id": "handmade-accounting",
   "metadata": {},
   "source": [
    "# Menggabungkan Pandas Series/Dataframe"
   ]
  },
  {
   "cell_type": "markdown",
   "id": "broadband-excerpt",
   "metadata": {},
   "source": [
    "Terdapat beberapa metode untuk menggabungkan Series/Dataframe di Pandas, yaitu:\n",
    "\n",
    "append\n",
    "concat\n",
    "merge\n",
    "join\n",
    "Akan dibahas satu persatu dalam subbab berikutnya."
   ]
  },
  {
   "cell_type": "code",
   "execution_count": 1,
   "id": "injured-greeting",
   "metadata": {},
   "outputs": [
    {
     "name": "stdout",
     "output_type": "stream",
     "text": [
      "Series - append:\n",
      " 0    a\n",
      "1    b\n",
      "2    c\n",
      "3    d\n",
      "4    e\n",
      "5    f\n",
      "0    1\n",
      "1    2\n",
      "2    3\n",
      "3    4\n",
      "4    5\n",
      "5    6\n",
      "dtype: object\n",
      "Dataframe - append:\n",
      "    b  a\n",
      "0  1  3\n",
      "1  2  4\n",
      "0  3  1\n",
      "1  4  2\n"
     ]
    }
   ],
   "source": [
    "import pandas as pd\n",
    "# Buat series of int (s1) dan series of string (s2)\n",
    "s1 = pd.Series([1,2,3,4,5,6])\n",
    "s2 = pd.Series([\"a\",\"b\",\"c\",\"d\",\"e\",\"f\"])\n",
    "# Terapkan method append\n",
    "s2_append_s1 = s2.append(s1)\n",
    "print(\"Series - append:\\n\", s2_append_s1)\n",
    "# Buat dataframe df1 dan df2\n",
    "df1 = pd.DataFrame({'a':[1,2],\n",
    "                    'b':[3,4]})\n",
    "df2 = pd.DataFrame({'b':[1,2],\n",
    "                    'a':[3,4]})\n",
    "# Terapkan method append\n",
    "df2_append_df1 = df2.append(df1)\n",
    "print(\"Dataframe - append:\\n\", df2_append_df1)"
   ]
  },
  {
   "cell_type": "code",
   "execution_count": 6,
   "id": "weekly-tennis",
   "metadata": {},
   "outputs": [
    {
     "name": "stdout",
     "output_type": "stream",
     "text": [
      "Row-wise - concat:\n",
      "    b  a\n",
      "0  1  3\n",
      "1  2  4\n",
      "0  3  1\n",
      "1  4  2\n",
      "Column-wise - concat:\n",
      "    b  a  a  b\n",
      "0  1  3  1  3\n",
      "1  2  4  2  4\n",
      "Multiindex - concat:\n",
      "        b  a\n",
      "df1 0  1  3\n",
      "    1  2  4\n",
      "df2 0  3  1\n",
      "    1  4  2\n"
     ]
    }
   ],
   "source": [
    "import pandas as pd\n",
    "# Buat dataframe df1 dan df2\n",
    "df1 = pd.DataFrame({'a':[1,2],\n",
    "'b':[3,4]})\n",
    "df2 = pd.DataFrame({'b':[1,2],\n",
    "'a':[3,4]})\n",
    "# Terapkan method concat row-wise\n",
    "row_wise_concat = pd.concat([df2, df1])\n",
    "print(\"Row-wise - concat:\\n\", row_wise_concat)\n",
    "# Terapkan method concat column-wise\n",
    "col_wise_concat = pd.concat([df2, df1], axis=1)\n",
    "print(\"Column-wise - concat:\\n\", col_wise_concat)\n",
    "# Penambahan identifier --> membentuk hasil penggabungan multiindex\n",
    "multiindex_concat = pd.concat([df2,df1], axis=0, keys=['df1','df2'])\n",
    "print(\"Multiindex - concat:\\n\", multiindex_concat)"
   ]
  },
  {
   "cell_type": "code",
   "execution_count": null,
   "id": "established-director",
   "metadata": {},
   "outputs": [],
   "source": []
  }
 ],
 "metadata": {
  "kernelspec": {
   "display_name": "Python 3",
   "language": "python",
   "name": "python3"
  },
  "language_info": {
   "codemirror_mode": {
    "name": "ipython",
    "version": 3
   },
   "file_extension": ".py",
   "mimetype": "text/x-python",
   "name": "python",
   "nbconvert_exporter": "python",
   "pygments_lexer": "ipython3",
   "version": "3.8.5"
  }
 },
 "nbformat": 4,
 "nbformat_minor": 5
}
