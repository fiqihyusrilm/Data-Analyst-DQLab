{
 "cells": [
  {
   "cell_type": "markdown",
   "id": "numerous-latest",
   "metadata": {},
   "source": [
    "# Mencari Jumlah Cluster yang Optimal"
   ]
  },
  {
   "cell_type": "code",
   "execution_count": 1,
   "id": "beneficial-springfield",
   "metadata": {},
   "outputs": [
    {
     "data": {
      "image/png": "[encoded data removed]",
      "text/plain": [
       "<Figure size 432x288 with 1 Axes>"
      ]
     },
     "metadata": {
      "needs_background": "light"
     },
     "output_type": "display_data"
    }
   ],
   "source": [
    "from kmodes.kmodes import KModes\n",
    "from kmodes.kprototypes import KPrototypes\n",
    "import pandas as pd\n",
    "import seaborn as sns\n",
    "import matplotlib.pyplot as plt\n",
    "df_model = pd.read_csv('https://storage.googleapis.com/dqlab-dataset/df-customer-segmentation.csv')\n",
    "\n",
    "# Melakukan Iterasi untuk Mendapatkan nilai Cost\n",
    "cost = {}\n",
    "for k in range(2,10):\n",
    "  kproto = KPrototypes(n_clusters = k,random_state=75)\n",
    "  kproto.fit_predict(df_model, categorical=[0,1,2])\n",
    "  cost[k]= kproto.cost_\n",
    "\n",
    "# Memvisualisasikan Elbow Plot\n",
    "sns.pointplot(x=list(cost.keys()), y=list(cost.values()))\n",
    "plt.show()"
   ]
  },
  {
   "cell_type": "markdown",
   "id": "defined-brother",
   "metadata": {},
   "source": [
    "# Mencari Jumlah Cluster yang Optimal"
   ]
  },
  {
   "cell_type": "code",
   "execution_count": 2,
   "id": "common-fleet",
   "metadata": {},
   "outputs": [],
   "source": [
    "import pickle\n",
    "from kmodes.kmodes import KModes\n",
    "from kmodes.kprototypes import KPrototypes\n",
    "\n",
    "kproto = KPrototypes(n_clusters=5, random_state = 75)\n",
    "kproto = kproto.fit(df_model, categorical=[0,1,2])\n",
    "\n",
    "#Save Model\n",
    "pickle.dump(kproto, open('cluster.pkl', 'wb'))"
   ]
  },
  {
   "cell_type": "markdown",
   "id": "greenhouse-adoption",
   "metadata": {},
   "source": [
    "# Menggunakan Model"
   ]
  },
  {
   "cell_type": "code",
   "execution_count": 3,
   "id": "absolute-invite",
   "metadata": {},
   "outputs": [
    {
     "name": "stdout",
     "output_type": "stream",
     "text": [
      "segmen pelanggan: [3 1 2 2 0 4 3 2 4 4 2 2 3 3 0 4 4 2 0 1 0 2 4 0 0 2 0 4 2 2 1 3 1 0 4 0 4\n",
      " 3 4 1 4 0 4 0 4 0 2 3 4 3]\n",
      "\n",
      "  Customer_ID       Nama Pelanggan Jenis Kelamin  Umur       Profesi  \\\n",
      "0    CUST-001         Budi Anggara          Pria    58    Wiraswasta   \n",
      "1    CUST-002     Shirley Ratuwati        Wanita    14       Pelajar   \n",
      "2    CUST-003         Agus Cahyono          Pria    48  Professional   \n",
      "3    CUST-004     Antonius Winarta          Pria    53  Professional   \n",
      "4    CUST-005  Ibu Sri Wahyuni, IR        Wanita    41    Wiraswasta   \n",
      "\n",
      "  Tipe Residen  NilaiBelanjaSetahun  cluster  \n",
      "0       Sector              9497927        3  \n",
      "1      Cluster              2722700        1  \n",
      "2      Cluster              5286429        2  \n",
      "3      Cluster              5204498        2  \n",
      "4      Cluster             10615206        0  \n"
     ]
    }
   ],
   "source": [
    "import pandas as pd\n",
    "df = pd.read_csv(\"https://dqlab-dataset.s3-ap-southeast-1.amazonaws.com/customer_segments.txt\", sep=\"\\t\")\n",
    "# Menentukan segmen tiap pelanggan\n",
    "clusters = kproto.predict(df_model, categorical=[0,1,2])\n",
    "print('segmen pelanggan: {}\\n'.format(clusters))\n",
    "\n",
    "# Menggabungkan data awal dan segmen pelanggan\n",
    "df_final = df.copy()\n",
    "df_final['cluster'] = clusters\n",
    "print(df_final.head())"
   ]
  },
  {
   "cell_type": "markdown",
   "id": "comic-crisis",
   "metadata": {},
   "source": [
    "# Menampilkan Cluster Tiap Pelanggan"
   ]
  },
  {
   "cell_type": "code",
   "execution_count": 4,
   "id": "micro-annotation",
   "metadata": {},
   "outputs": [
    {
     "name": "stdout",
     "output_type": "stream",
     "text": [
      "\n",
      "Pelanggan cluster: 0\n",
      "\n",
      "   Customer_ID       Nama Pelanggan Jenis Kelamin  Umur     Profesi  \\\n",
      "4     CUST-005  Ibu Sri Wahyuni, IR        Wanita    41  Wiraswasta   \n",
      "14    CUST-015     Shirley Ratuwati        Wanita    20  Wiraswasta   \n",
      "18    CUST-019         Mega Pranoto        Wanita    32  Wiraswasta   \n",
      "20    CUST-021     Lestari Fabianto        Wanita    38  Wiraswasta   \n",
      "23    CUST-024        Putri Ginting        Wanita    39  Wiraswasta   \n",
      "24    CUST-025       Julia Setiawan        Wanita    29  Wiraswasta   \n",
      "26    CUST-027        Grace Mulyati        Wanita    35  Wiraswasta   \n",
      "33    CUST-034       Deasy Arisandi        Wanita    21  Wiraswasta   \n",
      "35    CUST-036       Ni Made Suasti        Wanita    30  Wiraswasta   \n",
      "41    CUST-042         Yuliana Wati        Wanita    26  Wiraswasta   \n",
      "43    CUST-044                 Anna        Wanita    18  Wiraswasta   \n",
      "45    CUST-046         Elfira Surya        Wanita    25  Wiraswasta   \n",
      "\n",
      "   Tipe Residen  NilaiBelanjaSetahun  cluster  \n",
      "4       Cluster             10615206        0  \n",
      "14      Cluster             10365668        0  \n",
      "18      Cluster             10884508        0  \n",
      "20      Cluster              9222070        0  \n",
      "23      Cluster             10259572        0  \n",
      "24       Sector             10721998        0  \n",
      "26      Cluster              9114159        0  \n",
      "33       Sector              9759822        0  \n",
      "35      Cluster              9678994        0  \n",
      "41      Cluster              9880607        0  \n",
      "43      Cluster              9339737        0  \n",
      "45       Sector             10099807        0  \n",
      "\n",
      "Pelanggan cluster: 1\n",
      "\n",
      "   Customer_ID    Nama Pelanggan Jenis Kelamin  Umur    Profesi Tipe Residen  \\\n",
      "1     CUST-002  Shirley Ratuwati        Wanita    14    Pelajar      Cluster   \n",
      "19    CUST-020    Irene Novianto        Wanita    16    Pelajar       Sector   \n",
      "30    CUST-031     Eviana Handry        Wanita    19  Mahasiswa      Cluster   \n",
      "32    CUST-033   Cecilia Kusnadi        Wanita    19  Mahasiswa      Cluster   \n",
      "39    CUST-040    Irene Darmawan        Wanita    14    Pelajar       Sector   \n",
      "\n",
      "    NilaiBelanjaSetahun  cluster  \n",
      "1               2722700        1  \n",
      "19              2896845        1  \n",
      "30              3042773        1  \n",
      "32              3047926        1  \n",
      "39              2861855        1  \n",
      "\n",
      "Pelanggan cluster: 2\n",
      "\n",
      "   Customer_ID     Nama Pelanggan Jenis Kelamin  Umur           Profesi  \\\n",
      "2     CUST-003       Agus Cahyono          Pria    48      Professional   \n",
      "3     CUST-004   Antonius Winarta          Pria    53      Professional   \n",
      "7     CUST-008     Danang Santosa          Pria    52      Professional   \n",
      "10    CUST-011     Maria Suryawan        Wanita    50      Professional   \n",
      "11    CUST-012    Erliana Widjaja        Wanita    49      Professional   \n",
      "17    CUST-018        Nelly Halim        Wanita    63  Ibu Rumah Tangga   \n",
      "21    CUST-022       Novita Purba        Wanita    52      Professional   \n",
      "25    CUST-026  Christine Winarto        Wanita    55      Professional   \n",
      "28    CUST-029       Tia Hartanti        Wanita    56      Professional   \n",
      "29    CUST-030     Rosita Saragih        Wanita    46  Ibu Rumah Tangga   \n",
      "46    CUST-047        Mira Kurnia        Wanita    55  Ibu Rumah Tangga   \n",
      "\n",
      "   Tipe Residen  NilaiBelanjaSetahun  cluster  \n",
      "2       Cluster              5286429        2  \n",
      "3       Cluster              5204498        2  \n",
      "7       Cluster              5223569        2  \n",
      "10       Sector              5987367        2  \n",
      "11       Sector              5941914        2  \n",
      "17      Cluster              5340690        2  \n",
      "21      Cluster              5298157        2  \n",
      "25      Cluster              5269392        2  \n",
      "28      Cluster              5271845        2  \n",
      "29       Sector              5020976        2  \n",
      "46      Cluster              6130724        2  \n",
      "\n",
      "Pelanggan cluster: 3\n",
      "\n",
      "   Customer_ID    Nama Pelanggan Jenis Kelamin  Umur     Profesi Tipe Residen  \\\n",
      "0     CUST-001      Budi Anggara          Pria    58  Wiraswasta       Sector   \n",
      "6     CUST-007     Cahyono, Agus          Pria    64  Wiraswasta       Sector   \n",
      "12    CUST-013      Cahaya Putri        Wanita    64  Wiraswasta      Cluster   \n",
      "13    CUST-014    Mario Setiawan          Pria    60  Wiraswasta      Cluster   \n",
      "31    CUST-032   Chintya Winarni        Wanita    47  Wiraswasta       Sector   \n",
      "37    CUST-038      Agatha Salim        Wanita    46  Wiraswasta       Sector   \n",
      "47    CUST-048  Maria Hutagalung        Wanita    45  Wiraswasta       Sector   \n",
      "49    CUST-050    Lianna Nugraha        Wanita    55  Wiraswasta       Sector   \n",
      "\n",
      "    NilaiBelanjaSetahun  cluster  \n",
      "0               9497927        3  \n",
      "6               9837260        3  \n",
      "12              9333168        3  \n",
      "13              9471615        3  \n",
      "31             10663179        3  \n",
      "37             10477127        3  \n",
      "47             10390732        3  \n",
      "49             10569316        3  \n",
      "\n",
      "Pelanggan cluster: 4\n",
      "\n",
      "   Customer_ID         Nama Pelanggan Jenis Kelamin  Umur           Profesi  \\\n",
      "5     CUST-006        Rosalina Kurnia        Wanita    24      Professional   \n",
      "8     CUST-009  Elisabeth Suryadinata        Wanita    29      Professional   \n",
      "9     CUST-010         Mario Setiawan          Pria    33      Professional   \n",
      "15    CUST-016           Bambang Rudi          Pria    35      Professional   \n",
      "16    CUST-017              Yuni Sari        Wanita    32  Ibu Rumah Tangga   \n",
      "22    CUST-023        Denny Amiruddin          Pria    34      Professional   \n",
      "27    CUST-028          Adeline Huang        Wanita    40  Ibu Rumah Tangga   \n",
      "34    CUST-035                Ida Ayu        Wanita    39      Professional   \n",
      "36    CUST-037       Felicia Tandiono        Wanita    25      Professional   \n",
      "38    CUST-039           Gina Hidayat        Wanita    20      Professional   \n",
      "40    CUST-041       Shinta Aritonang        Wanita    24  Ibu Rumah Tangga   \n",
      "42    CUST-043           Yenna Sumadi        Wanita    31      Professional   \n",
      "44    CUST-045         Rismawati Juni        Wanita    22      Professional   \n",
      "48    CUST-049        Josephine Wahab        Wanita    33  Ibu Rumah Tangga   \n",
      "\n",
      "   Tipe Residen  NilaiBelanjaSetahun  cluster  \n",
      "5       Cluster              5215541        4  \n",
      "8        Sector              5993218        4  \n",
      "9       Cluster              5257448        4  \n",
      "15      Cluster              5262521        4  \n",
      "16      Cluster              5677762        4  \n",
      "22      Cluster              5239290        4  \n",
      "27      Cluster              6631680        4  \n",
      "34       Sector              5962575        4  \n",
      "36       Sector              5972787        4  \n",
      "38      Cluster              5257775        4  \n",
      "40      Cluster              6820976        4  \n",
      "42      Cluster              5268410        4  \n",
      "44      Cluster              5211041        4  \n",
      "48       Sector              4992585        4  \n"
     ]
    }
   ],
   "source": [
    "# Menampilkan data pelanggan berdasarkan cluster nya  \n",
    "for i in range (0,5):\n",
    "    print('\\nPelanggan cluster: {}\\n'.format(i))\n",
    "    print(df_final[df_final['cluster']== i])"
   ]
  },
  {
   "cell_type": "markdown",
   "id": "automatic-ladder",
   "metadata": {},
   "source": [
    "# Visualisasi Hasil Clustering - Box Plot"
   ]
  },
  {
   "cell_type": "code",
   "execution_count": 5,
   "id": "convenient-america",
   "metadata": {},
   "outputs": [
    {
     "data": {
      "image/png": "[encoded data removed]",
      "text/plain": [
       "<Figure size 432x288 with 1 Axes>"
      ]
     },
     "metadata": {
      "needs_background": "light"
     },
     "output_type": "display_data"
    },
    {
     "data": {
      "image/png": "[encoded data removed]",
      "text/plain": [
       "<Figure size 432x288 with 1 Axes>"
      ]
     },
     "metadata": {
      "needs_background": "light"
     },
     "output_type": "display_data"
    }
   ],
   "source": [
    "import matplotlib.pyplot as plt\n",
    "# Data Numerical\n",
    "kolom_numerik = ['Umur','NilaiBelanjaSetahun']\n",
    "\n",
    "for i in kolom_numerik:\n",
    "    plt.figure(figsize=(6,4))\n",
    "    ax = sns.boxplot(x = 'cluster',y = i, data = df_final)\n",
    "    plt.title('\\nBox Plot {}\\n'.format(i), fontsize=12)\n",
    "    plt.show()"
   ]
  },
  {
   "cell_type": "markdown",
   "id": "typical-correlation",
   "metadata": {},
   "source": [
    "# Visualisasi Hasil Clustering - Count Plot"
   ]
  },
  {
   "cell_type": "code",
   "execution_count": 6,
   "id": "concrete-grocery",
   "metadata": {},
   "outputs": [
    {
     "data": {
      "image/png": "[encoded data removed]",
      "text/plain": [
       "<Figure size 432x288 with 1 Axes>"
      ]
     },
     "metadata": {
      "needs_background": "light"
     },
     "output_type": "display_data"
    },
    {
     "data": {
      "image/png": "[encoded data removed]",
      "text/plain": [
       "<Figure size 432x288 with 1 Axes>"
      ]
     },
     "metadata": {
      "needs_background": "light"
     },
     "output_type": "display_data"
    },
    {
     "data": {
      "image/png": "[encoded data removed]",
      "text/plain": [
       "<Figure size 432x288 with 1 Axes>"
      ]
     },
     "metadata": {
      "needs_background": "light"
     },
     "output_type": "display_data"
    }
   ],
   "source": [
    "\n",
    "import matplotlib.pyplot as plt\n",
    "# Data Kategorikal\n",
    "kolom_categorical = ['Jenis Kelamin','Profesi','Tipe Residen']\n",
    "\n",
    "for i in kolom_categorical:\n",
    "    plt.figure(figsize=(6,4))\n",
    "    ax = sns.countplot(data = df_final, x = 'cluster', hue = i )\n",
    "    plt.title('\\nCount Plot {}\\n'.format(i), fontsize=12)\n",
    "    ax.legend(loc=\"upper center\")\n",
    "for p in ax.patches:\n",
    "    ax.annotate(format(p.get_height(), '.0f'),\n",
    "    (p.get_x() + p.get_width() / 2., p.get_height()),\n",
    "    ha = 'center',\n",
    "    va = 'center',\n",
    "    xytext = (0, 10),\n",
    "    textcoords = 'offset points')\n",
    "\n",
    "sns.despine(right=True,top = True, left = True)\n",
    "ax.axes.yaxis.set_visible(False)\n",
    "plt.show()"
   ]
  },
  {
   "cell_type": "markdown",
   "id": "typical-aircraft",
   "metadata": {},
   "source": [
    "# Menamakan Cluster"
   ]
  },
  {
   "cell_type": "code",
   "execution_count": 7,
   "id": "ecological-mambo",
   "metadata": {},
   "outputs": [
    {
     "name": "stdout",
     "output_type": "stream",
     "text": [
      "<class 'pandas.core.frame.DataFrame'>\n",
      "RangeIndex: 50 entries, 0 to 49\n",
      "Data columns (total 9 columns):\n",
      " #   Column               Non-Null Count  Dtype \n",
      "---  ------               --------------  ----- \n",
      " 0   Customer_ID          50 non-null     object\n",
      " 1   Nama Pelanggan       50 non-null     object\n",
      " 2   Jenis Kelamin        50 non-null     object\n",
      " 3   Umur                 50 non-null     int64 \n",
      " 4   Profesi              50 non-null     object\n",
      " 5   Tipe Residen         50 non-null     object\n",
      " 6   NilaiBelanjaSetahun  50 non-null     int64 \n",
      " 7   cluster              50 non-null     uint16\n",
      " 8   segmen               50 non-null     object\n",
      "dtypes: int64(2), object(6), uint16(1)\n",
      "memory usage: 3.3+ KB\n",
      "None\n",
      "  Customer_ID       Nama Pelanggan Jenis Kelamin  Umur       Profesi  \\\n",
      "0    CUST-001         Budi Anggara          Pria    58    Wiraswasta   \n",
      "1    CUST-002     Shirley Ratuwati        Wanita    14       Pelajar   \n",
      "2    CUST-003         Agus Cahyono          Pria    48  Professional   \n",
      "3    CUST-004     Antonius Winarta          Pria    53  Professional   \n",
      "4    CUST-005  Ibu Sri Wahyuni, IR        Wanita    41    Wiraswasta   \n",
      "\n",
      "  Tipe Residen  NilaiBelanjaSetahun  cluster                 segmen  \n",
      "0       Sector              9497927        3      Gold Young Member  \n",
      "1      Cluster              2722700        1  Diamond Senior Member  \n",
      "2      Cluster              5286429        2          Silver Member  \n",
      "3      Cluster              5204498        2          Silver Member  \n",
      "4      Cluster             10615206        0   Diamond Young Member  \n"
     ]
    }
   ],
   "source": [
    "# Mapping nama kolom\n",
    "df_final['segmen'] = df_final['cluster'].map({\n",
    "0: 'Diamond Young Member',\n",
    "1: 'Diamond Senior Member',\n",
    "2: 'Silver Member',\n",
    "3: 'Gold Young Member',\n",
    "4: 'Gold Senior Member'\n",
    "})\n",
    "\n",
    "print(df_final.info())\n",
    "print(df_final.head())"
   ]
  },
  {
   "cell_type": "raw",
   "id": "essential-roberts",
   "metadata": {},
   "source": [
    "Pada aplikasi di industri proses penentuan cluster yang optimum bisa dilakukan juga dengan melihat matriks evaluasi lainnya seperti sillhoute score dan callinski-harabaz score"
   ]
  },
  {
   "cell_type": "markdown",
   "id": "postal-inflation",
   "metadata": {},
   "source": [
    "# Mempersiapkan Data Baru"
   ]
  },
  {
   "cell_type": "code",
   "execution_count": 8,
   "id": "cooperative-breast",
   "metadata": {},
   "outputs": [
    {
     "name": "stdout",
     "output_type": "stream",
     "text": [
      "  Customer_ID Nama Pelanggan Jenis Kelamin  Umur     Profesi Tipe Residen  \\\n",
      "0    CUST-100           Joko          Pria    45  Wiraswasta      Cluster   \n",
      "\n",
      "   NilaiBelanjaSetahun  \n",
      "0              8230000  \n"
     ]
    }
   ],
   "source": [
    "# Data Baru\n",
    "data = [{\n",
    "    'Customer_ID': 'CUST-100' ,\n",
    "    'Nama Pelanggan': 'Joko' ,\n",
    "    'Jenis Kelamin': 'Pria',\n",
    "    'Umur': 45,\n",
    "    'Profesi': 'Wiraswasta',\n",
    "    'Tipe Residen': 'Cluster' ,\n",
    "    'NilaiBelanjaSetahun': 8230000\n",
    "}]\n",
    "\n",
    "# Membuat Data Frame\n",
    "new_df = pd.DataFrame(data)\n",
    "\n",
    "# Melihat Data\n",
    "print(new_df)"
   ]
  },
  {
   "cell_type": "markdown",
   "id": "dominican-mount",
   "metadata": {},
   "source": [
    "# Membuat Fungsi Data Pemrosesan"
   ]
  },
  {
   "cell_type": "code",
   "execution_count": 9,
   "id": "impossible-momentum",
   "metadata": {},
   "outputs": [
    {
     "name": "stdout",
     "output_type": "stream",
     "text": [
      "   Jenis Kelamin  Profesi  Tipe Residen      Umur  NilaiBelanjaSetahun\n",
      "0              0        4             0  0.510204             0.447818\n"
     ]
    }
   ],
   "source": [
    "def data_preprocess(data):\n",
    "    # Konversi Kategorikal data\n",
    "    kolom_kategorikal = ['Jenis Kelamin','Profesi','Tipe Residen']\n",
    "\n",
    "    df_encode = data[kolom_kategorikal].copy()\n",
    "\n",
    "    ## Jenis Kelamin\n",
    "    df_encode['Jenis Kelamin'] = df_encode['Jenis Kelamin'].map({\n",
    "    'Pria': 0,\n",
    "    'Wanita' : 1\n",
    "    })\n",
    "\n",
    "    ## Profesi\n",
    "    df_encode['Profesi'] = df_encode['Profesi'].map({\n",
    "    'Ibu Rumah Tangga': 0,\n",
    "    'Mahasiswa' : 1,\n",
    "    'Pelajar': 2,\n",
    "    'Professional': 3,\n",
    "    'Wiraswasta': 4\n",
    "    })\n",
    "\n",
    "    ## Tipe Residen\n",
    "    df_encode['Tipe Residen'] = df_encode['Tipe Residen'].map({\n",
    "    'Cluster': 0,\n",
    "    'Sector' : 1\n",
    "    })\n",
    "\n",
    "    # Standardisasi Numerical Data\n",
    "    kolom_numerik = ['Umur','NilaiBelanjaSetahun']\n",
    "    df_std = data[kolom_numerik].copy()\n",
    "\n",
    "    ## Standardisasi Kolom Umur\n",
    "    df_std['Umur'] = (df_std['Umur'] - 37.5)/14.7\n",
    "\n",
    "    ## Standardisasi Kolom Nilai Belanja Setahun\n",
    "    df_std['NilaiBelanjaSetahun'] = (df_std['NilaiBelanjaSetahun'] - 7069874.8)/2590619.0\n",
    "\n",
    "    # Menggabungkan Kategorikal dan numerikal data\n",
    "    df_model = df_encode.merge(df_std, left_index = True,\n",
    "    right_index=True, how = 'left')\n",
    "\n",
    "    return df_model\n",
    "\n",
    "# Menjalankan fungsi\n",
    "new_df_model = data_preprocess(new_df)\n",
    "\n",
    "print(new_df_model)"
   ]
  },
  {
   "cell_type": "markdown",
   "id": "southern-second",
   "metadata": {},
   "source": [
    "# Memanggil Model dan Melakukan Prediksi"
   ]
  },
  {
   "cell_type": "code",
   "execution_count": 10,
   "id": "immune-ireland",
   "metadata": {},
   "outputs": [
    {
     "name": "stdout",
     "output_type": "stream",
     "text": [
      "[3]\n"
     ]
    }
   ],
   "source": [
    "def modelling (data):\n",
    "\n",
    "    # Memanggil Model\n",
    "    kpoto = pickle.load(open('cluster.pkl', 'rb'))\n",
    "\n",
    "    # Melakukan Prediksi\n",
    "    clusters = kpoto.predict(data,categorical=[0,1,2])\n",
    "\n",
    "    return clusters\n",
    "\n",
    "# Menjalankan Fungsi\n",
    "clusters = modelling(new_df_model)\n",
    "\n",
    "print(clusters)"
   ]
  },
  {
   "cell_type": "markdown",
   "id": "variable-congo",
   "metadata": {},
   "source": [
    "# Menamakan Segmen"
   ]
  },
  {
   "cell_type": "code",
   "execution_count": 11,
   "id": "owned-latin",
   "metadata": {},
   "outputs": [
    {
     "name": "stdout",
     "output_type": "stream",
     "text": [
      "  Customer_ID Nama Pelanggan Jenis Kelamin  Umur     Profesi Tipe Residen  \\\n",
      "0    CUST-100           Joko          Pria    45  Wiraswasta      Cluster   \n",
      "\n",
      "   NilaiBelanjaSetahun  cluster             segmen  \n",
      "0              8230000        3  Gold Young Member  \n"
     ]
    }
   ],
   "source": [
    "def menamakan_segmen (data_asli, clusters):\n",
    "\n",
    "    # Menggabungkan cluster dan data asli\n",
    "    final_df = data_asli.copy()\n",
    "    final_df['cluster'] = clusters\n",
    "\n",
    "    # Menamakan segmen\n",
    "    final_df['segmen'] = final_df['cluster'].map({\n",
    "    0: 'Diamond Young Member',\n",
    "    1: 'Diamond Senior Member',\n",
    "    2: 'Silver Students',\n",
    "    3: 'Gold Young Member',\n",
    "    4: 'Gold Senior Member'\n",
    "    })\n",
    "\n",
    "    return final_df\n",
    "\n",
    "# Menjalankan Fungsi\n",
    "new_final_df = menamakan_segmen(new_df,clusters)\n",
    "\n",
    "print(new_final_df)"
   ]
  },
  {
   "cell_type": "code",
   "execution_count": null,
   "id": "extensive-government",
   "metadata": {},
   "outputs": [],
   "source": [
    "\n",
    "#import library yang dibutuhkan\n",
    "import pandas as pd\n",
    "import requests\n",
    "from bs4 import BeautifulSoup\n",
    "\n",
    "#buatlah request ke website\n",
    "website_url = requests.get('https://id.wikipedia.org/wiki/Demografi_Indonesia').text\n",
    "soup = BeautifulSoup(website_url, 'lxml')\n",
    "\n",
    "#ambil table dengan class 'wikitable sortable'\n",
    "my_table = soup.find('table', {'class':'wikitable sortable'})\n",
    "\n",
    "#cari data dengan tag 'td'\n",
    "links = my_table.findAll('td')\n",
    "\n",
    "#buatlah lists kosong\n",
    "kode_bps = []\n",
    "nama = []\n",
    "ibu_kota = []\n",
    "populasi = []\n",
    "luas_km = []\n",
    "pulau = []\n",
    "\n",
    "#memasukkan data ke dalam list berdasarkan pola HTML\n",
    "for i, link in enumerate(links):\n",
    "    if i in range(0, len(links), 9):\n",
    "        kode_bps.append(link.get_text())\n",
    "    if i in range(2, len(links), 9):\n",
    "        nama.append(link.get_text())\n",
    "    if i in range(4, len(links), 9):\n",
    "        ibu_kota.append(link.get_text())\n",
    "    if i in range(5, len(links), 9):\n",
    "        populasi.append(link.get_text())\n",
    "\n",
    "#buatlah DatFrame dan masukkan ke CSV\n",
    "df = pd.DataFrame()\n",
    "df['Kode BPS'] = kode_bps\n",
    "df['Nama'] = nama\n",
    "df['Ibu Kota'] = ibu_kota\n",
    "df['Populasi'] = populasi\n",
    "df['Luas km'] = luas_km\n",
    "df['Pulau'] = pulau\n",
    "df.to_csv('Indonesia_Demography_by_Province.csv', index=False, encoding='utf-8', quoting=1)"
   ]
  },
  {
   "cell_type": "code",
   "execution_count": 25,
   "id": "competitive-spain",
   "metadata": {},
   "outputs": [
    {
     "data": {
      "text/html": [
       "<div>\n",
       "<style scoped>\n",
       "    .dataframe tbody tr th:only-of-type {\n",
       "        vertical-align: middle;\n",
       "    }\n",
       "\n",
       "    .dataframe tbody tr th {\n",
       "        vertical-align: top;\n",
       "    }\n",
       "\n",
       "    .dataframe thead th {\n",
       "        text-align: right;\n",
       "    }\n",
       "</style>\n",
       "<table border=\"1\" class=\"dataframe\">\n",
       "  <thead>\n",
       "    <tr style=\"text-align: right;\">\n",
       "      <th></th>\n",
       "      <th>Nama Provinsi</th>\n",
       "      <th>Luas km</th>\n",
       "      <th>Populasi 2010</th>\n",
       "      <th>Populasi 2020</th>\n",
       "    </tr>\n",
       "  </thead>\n",
       "  <tbody>\n",
       "    <tr>\n",
       "      <th>0</th>\n",
       "      <td>Aceh\\n</td>\n",
       "      <td>56.500,51\\n</td>\n",
       "      <td>4.494.410\\n</td>\n",
       "      <td>5.274.871\\n</td>\n",
       "    </tr>\n",
       "    <tr>\n",
       "      <th>1</th>\n",
       "      <td>Riau\\n</td>\n",
       "      <td>87.844,23\\n</td>\n",
       "      <td>5.538.367\\n</td>\n",
       "      <td>6.394.087\\n</td>\n",
       "    </tr>\n",
       "    <tr>\n",
       "      <th>2</th>\n",
       "      <td>Bengkulu\\n</td>\n",
       "      <td>19.795,15\\n</td>\n",
       "      <td>1.715.518\\n</td>\n",
       "      <td>2.010.670\\n</td>\n",
       "    </tr>\n",
       "    <tr>\n",
       "      <th>3</th>\n",
       "      <td>Kepulauan Riau\\n</td>\n",
       "      <td>8.084,01\\n</td>\n",
       "      <td>1.679.163\\n</td>\n",
       "      <td>2.064.564\\n</td>\n",
       "    </tr>\n",
       "    <tr>\n",
       "      <th>4</th>\n",
       "      <td>Jawa Tengah\\n</td>\n",
       "      <td>32.799,71\\n</td>\n",
       "      <td>32.382.657\\n</td>\n",
       "      <td>36.516.035\\n</td>\n",
       "    </tr>\n",
       "    <tr>\n",
       "      <th>5</th>\n",
       "      <td>Banten\\n</td>\n",
       "      <td>9.018,64\\n</td>\n",
       "      <td>10.632.166\\n</td>\n",
       "      <td>11.904.562\\n</td>\n",
       "    </tr>\n",
       "    <tr>\n",
       "      <th>6</th>\n",
       "      <td>Nusa Tenggara Timur\\n</td>\n",
       "      <td>46.137,87\\n</td>\n",
       "      <td>4.683.827\\n</td>\n",
       "      <td>5.325.566\\n</td>\n",
       "    </tr>\n",
       "    <tr>\n",
       "      <th>7</th>\n",
       "      <td>Kalimantan Selatan\\n</td>\n",
       "      <td>37.530,52\\n</td>\n",
       "      <td>3.626.616\\n</td>\n",
       "      <td>4.073.584\\n</td>\n",
       "    </tr>\n",
       "    <tr>\n",
       "      <th>8</th>\n",
       "      <td>Sulawesi Utara\\n</td>\n",
       "      <td>13.930,73\\n</td>\n",
       "      <td>2.270.596\\n</td>\n",
       "      <td>2.621.923\\n</td>\n",
       "    </tr>\n",
       "    <tr>\n",
       "      <th>9</th>\n",
       "      <td>Sulawesi Tenggara\\n</td>\n",
       "      <td>36.757,45\\n</td>\n",
       "      <td>2.232.586\\n</td>\n",
       "      <td>2.624.875\\n</td>\n",
       "    </tr>\n",
       "    <tr>\n",
       "      <th>10</th>\n",
       "      <td>Maluku\\n</td>\n",
       "      <td>47.350,42\\n</td>\n",
       "      <td>1.533.506\\n</td>\n",
       "      <td>1.848.923\\n</td>\n",
       "    </tr>\n",
       "    <tr>\n",
       "      <th>11</th>\n",
       "      <td>Papua\\n</td>\n",
       "      <td>309.934,40\\n</td>\n",
       "      <td>2.833.381\\n</td>\n",
       "      <td>4.303.707\\n</td>\n",
       "    </tr>\n",
       "  </tbody>\n",
       "</table>\n",
       "</div>"
      ],
      "text/plain": [
       "            Nama Provinsi       Luas km Populasi 2010 Populasi 2020\n",
       "0                  Aceh\\n   56.500,51\\n   4.494.410\\n   5.274.871\\n\n",
       "1                  Riau\\n   87.844,23\\n   5.538.367\\n   6.394.087\\n\n",
       "2              Bengkulu\\n   19.795,15\\n   1.715.518\\n   2.010.670\\n\n",
       "3        Kepulauan Riau\\n    8.084,01\\n   1.679.163\\n   2.064.564\\n\n",
       "4           Jawa Tengah\\n   32.799,71\\n  32.382.657\\n  36.516.035\\n\n",
       "5                Banten\\n    9.018,64\\n  10.632.166\\n  11.904.562\\n\n",
       "6   Nusa Tenggara Timur\\n   46.137,87\\n   4.683.827\\n   5.325.566\\n\n",
       "7    Kalimantan Selatan\\n   37.530,52\\n   3.626.616\\n   4.073.584\\n\n",
       "8        Sulawesi Utara\\n   13.930,73\\n   2.270.596\\n   2.621.923\\n\n",
       "9     Sulawesi Tenggara\\n   36.757,45\\n   2.232.586\\n   2.624.875\\n\n",
       "10               Maluku\\n   47.350,42\\n   1.533.506\\n   1.848.923\\n\n",
       "11                Papua\\n  309.934,40\\n   2.833.381\\n   4.303.707\\n"
      ]
     },
     "execution_count": 25,
     "metadata": {},
     "output_type": "execute_result"
    }
   ],
   "source": [
    "\n",
    "#import library yang dibutuhkan\n",
    "import pandas as pd\n",
    "import requests\n",
    "from bs4 import BeautifulSoup\n",
    "\n",
    "#buatlah request ke website\n",
    "website_url = requests.get('https://id.wikipedia.org/wiki/Demografi_Indonesia').text\n",
    "soup = BeautifulSoup(website_url, 'lxml')\n",
    "\n",
    "#ambil table dengan class 'wikitable sortable'\n",
    "my_table = soup.find('table', {'class':'wikitable sortable'})\n",
    "\n",
    "#cari data dengan tag 'td'\n",
    "links = my_table.findAll('td')\n",
    "\n",
    "#buatlah lists kosong\n",
    "nama = []\n",
    "luas_km = []\n",
    "populasi10 = []\n",
    "populasi20 = []\n",
    "\n",
    "#memasukkan data ke dalam list berdasarkan pola HTML\n",
    "for i, link in enumerate(links):\n",
    "    if i in range(0, len(links), 12):\n",
    "        nama.append(link.get_text())\n",
    "    if i in range(1, len(links), 12):\n",
    "        luas_km.append(link.get_text())\n",
    "    if i in range(2, len(links), 12):\n",
    "        populasi10.append(link.get_text())\n",
    "    if i in range(3, len(links), 12):\n",
    "        populasi20.append(link.get_text())\n",
    "\n",
    "#buatlah DatFrame dan masukkan ke CSV\n",
    "df = pd.DataFrame()\n",
    "df['Nama Provinsi'] = nama\n",
    "df['Luas km'] = luas_km\n",
    "df['Populasi 2010'] = populasi10\n",
    "df['Populasi 2020'] = populasi20\n",
    "df.to_csv('Indonesia_Demography_by_Province.csv', index=False, encoding='utf-8', quoting=1)\n",
    "df"
   ]
  },
  {
   "cell_type": "code",
   "execution_count": 26,
   "id": "nutritional-permit",
   "metadata": {},
   "outputs": [
    {
     "name": "stdout",
     "output_type": "stream",
     "text": [
      "Not Pass\n",
      "Pass\n",
      "Pass\n",
      "Pass\n",
      "Not Pass\n",
      "Not Pass\n",
      "Pass\n",
      "Not Pass\n",
      "Not Pass\n"
     ]
    }
   ],
   "source": [
    "import re\n",
    "\n",
    "#function email_check\n",
    "def email_check(input):\n",
    "    match = re.search('(?=^((?!-).)*$)(?=[^0-9])((?=^((?!\\.\\d).)*$)|(?=.*_))',input)\n",
    "    if match:\n",
    "  \t    print('Pass')\n",
    "    else:\n",
    "  \t    print('Not Pass')\n",
    "\n",
    "#Masukkan daftar email ke dalam list\n",
    "emails = ['my-name@someemail.com', 'myname@someemail.com','my.name@someemail.com',\n",
    "'my.name2019@someemail.com', 'my.name.2019@someemail.com',\n",
    "'somename.201903@someemail.com','my_name.201903@someemail.com',\n",
    "'201903myname@someemail.com', '201903.myname@someemail.com']\n",
    "\n",
    "#Looping untuk pengecekan Pass atau Not Pass\n",
    "for email in emails :\n",
    "\temail_check(email)"
   ]
  },
  {
   "cell_type": "code",
   "execution_count": null,
   "id": "muslim-christianity",
   "metadata": {},
   "outputs": [],
   "source": []
  }
 ],
 "metadata": {
  "kernelspec": {
   "display_name": "Python 3",
   "language": "python",
   "name": "python3"
  },
  "language_info": {
   "codemirror_mode": {
    "name": "ipython",
    "version": 3
   },
   "file_extension": ".py",
   "mimetype": "text/x-python",
   "name": "python",
   "nbconvert_exporter": "python",
   "pygments_lexer": "ipython3",
   "version": "3.8.5"
  }
 },
 "nbformat": 4,
 "nbformat_minor": 5
}
